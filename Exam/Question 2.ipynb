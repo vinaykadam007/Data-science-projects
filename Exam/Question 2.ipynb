{
 "cells": [
  {
   "cell_type": "markdown",
   "metadata": {},
   "source": [
    "# Question 2 - Predict whether a person has Diabetes\n",
    "\n",
    "The diabetes dataset has some features which help deduce if a person has diabetes or not. The colums are:  \n",
    "**Glucose: Glucose concentration in a oral test within 2 hours  \n",
    "Insulin: Insulin levels within 2 hours  \n",
    "Age: Age of person  \n",
    "Outcome: 0 (No Diabetes) or 1(Diabetes)**\n",
    "\n",
    "## Task:\n",
    "Predict whether a person has diabetes using two features of the three given. \n",
    "\n",
    "## Questions\n",
    "1. Are there any missing rows or incorrect values in the dataset? Justify. If yes, remove them.\n",
    "2. How does Glucose and Insulin vary for Diabetics and Non Diabetics at the age of 25?\n",
    "3. At what age is a person most susceptible to Diabetes?\n",
    "4. Is the data given biased to you? Justify.\n",
    "5. Plot a pair wise scatter plot of every feature.\n",
    "6. Using Perceptron Model, with the entire dataset, find out if a person of 43 years has diabetes based on a Glucose level of 114 and 0 Insulin level? Also plot the separation using the meshgrid approach.\n",
    "7. If you use an unbiased fitting method, with the entire dataset, does the outcome change for the same input values as above? Also plot the separation using the meshgrid approach.\n",
    "8. **Important** Predict the outcome for the entire dataset using the model created in Question 7. Get the confusion matrix. What are your comments on the Perceptron and SVM model?"
   ]
  },
  {
   "cell_type": "code",
   "execution_count": 1,
   "metadata": {},
   "outputs": [
    {
     "data": {
      "text/html": [
       "<div>\n",
       "<style scoped>\n",
       "    .dataframe tbody tr th:only-of-type {\n",
       "        vertical-align: middle;\n",
       "    }\n",
       "\n",
       "    .dataframe tbody tr th {\n",
       "        vertical-align: top;\n",
       "    }\n",
       "\n",
       "    .dataframe thead th {\n",
       "        text-align: right;\n",
       "    }\n",
       "</style>\n",
       "<table border=\"1\" class=\"dataframe\">\n",
       "  <thead>\n",
       "    <tr style=\"text-align: right;\">\n",
       "      <th></th>\n",
       "      <th>Glucose</th>\n",
       "      <th>Insulin</th>\n",
       "      <th>Age</th>\n",
       "      <th>Outcome</th>\n",
       "    </tr>\n",
       "  </thead>\n",
       "  <tbody>\n",
       "    <tr>\n",
       "      <th>0</th>\n",
       "      <td>85</td>\n",
       "      <td>0</td>\n",
       "      <td>31</td>\n",
       "      <td>0</td>\n",
       "    </tr>\n",
       "    <tr>\n",
       "      <th>1</th>\n",
       "      <td>89</td>\n",
       "      <td>94</td>\n",
       "      <td>21</td>\n",
       "      <td>0</td>\n",
       "    </tr>\n",
       "    <tr>\n",
       "      <th>2</th>\n",
       "      <td>116</td>\n",
       "      <td>0</td>\n",
       "      <td>30</td>\n",
       "      <td>0</td>\n",
       "    </tr>\n",
       "    <tr>\n",
       "      <th>3</th>\n",
       "      <td>115</td>\n",
       "      <td>0</td>\n",
       "      <td>29</td>\n",
       "      <td>0</td>\n",
       "    </tr>\n",
       "    <tr>\n",
       "      <th>4</th>\n",
       "      <td>110</td>\n",
       "      <td>0</td>\n",
       "      <td>30</td>\n",
       "      <td>0</td>\n",
       "    </tr>\n",
       "  </tbody>\n",
       "</table>\n",
       "</div>"
      ],
      "text/plain": [
       "   Glucose  Insulin  Age  Outcome\n",
       "0       85        0   31        0\n",
       "1       89       94   21        0\n",
       "2      116        0   30        0\n",
       "3      115        0   29        0\n",
       "4      110        0   30        0"
      ]
     },
     "execution_count": 1,
     "metadata": {},
     "output_type": "execute_result"
    }
   ],
   "source": [
    "import pandas as pd\n",
    "df = pd.read_csv('./data/diabetes.csv')\n",
    "df.head()"
   ]
  }
 ],
 "metadata": {
  "kernelspec": {
   "display_name": "Python 3",
   "language": "python",
   "name": "python3"
  },
  "language_info": {
   "codemirror_mode": {
    "name": "ipython",
    "version": 3
   },
   "file_extension": ".py",
   "mimetype": "text/x-python",
   "name": "python",
   "nbconvert_exporter": "python",
   "pygments_lexer": "ipython3",
   "version": "3.7.2"
  }
 },
 "nbformat": 4,
 "nbformat_minor": 2
}
