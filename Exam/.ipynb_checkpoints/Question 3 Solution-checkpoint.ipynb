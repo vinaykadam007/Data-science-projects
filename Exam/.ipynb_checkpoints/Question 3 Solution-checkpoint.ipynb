{
 "cells": [
  {
   "cell_type": "markdown",
   "metadata": {},
   "source": [
    "## Kmeans clustering"
   ]
  },
  {
   "cell_type": "code",
   "execution_count": 1,
   "metadata": {},
   "outputs": [],
   "source": [
    "import numpy as np\n",
    "from sklearn.cluster import KMeans\n",
    "import matplotlib.pyplot as plt\n",
    "import pandas as pd"
   ]
  },
  {
   "cell_type": "code",
   "execution_count": 2,
   "metadata": {},
   "outputs": [
    {
     "data": {
      "text/html": [
       "<div>\n",
       "<style scoped>\n",
       "    .dataframe tbody tr th:only-of-type {\n",
       "        vertical-align: middle;\n",
       "    }\n",
       "\n",
       "    .dataframe tbody tr th {\n",
       "        vertical-align: top;\n",
       "    }\n",
       "\n",
       "    .dataframe thead th {\n",
       "        text-align: right;\n",
       "    }\n",
       "</style>\n",
       "<table border=\"1\" class=\"dataframe\">\n",
       "  <thead>\n",
       "    <tr style=\"text-align: right;\">\n",
       "      <th></th>\n",
       "      <th>x1</th>\n",
       "      <th>x2</th>\n",
       "    </tr>\n",
       "  </thead>\n",
       "  <tbody>\n",
       "    <tr>\n",
       "      <th>0</th>\n",
       "      <td>3.5</td>\n",
       "      <td>0.2</td>\n",
       "    </tr>\n",
       "    <tr>\n",
       "      <th>1</th>\n",
       "      <td>3.0</td>\n",
       "      <td>0.2</td>\n",
       "    </tr>\n",
       "    <tr>\n",
       "      <th>2</th>\n",
       "      <td>3.2</td>\n",
       "      <td>0.2</td>\n",
       "    </tr>\n",
       "    <tr>\n",
       "      <th>3</th>\n",
       "      <td>3.1</td>\n",
       "      <td>0.2</td>\n",
       "    </tr>\n",
       "    <tr>\n",
       "      <th>4</th>\n",
       "      <td>3.6</td>\n",
       "      <td>0.2</td>\n",
       "    </tr>\n",
       "  </tbody>\n",
       "</table>\n",
       "</div>"
      ],
      "text/plain": [
       "    x1   x2\n",
       "0  3.5  0.2\n",
       "1  3.0  0.2\n",
       "2  3.2  0.2\n",
       "3  3.1  0.2\n",
       "4  3.6  0.2"
      ]
     },
     "execution_count": 2,
     "metadata": {},
     "output_type": "execute_result"
    }
   ],
   "source": [
    "df = pd.read_csv(\"./data/clustering data.csv\")\n",
    "df.head()"
   ]
  },
  {
   "cell_type": "code",
   "execution_count": 3,
   "metadata": {},
   "outputs": [
    {
     "data": {
      "image/png": "[encoded data removed]",
      "text/plain": [
       "<Figure size 432x288 with 1 Axes>"
      ]
     },
     "metadata": {},
     "output_type": "display_data"
    }
   ],
   "source": [
    "plt.figure()\n",
    "\n",
    "plt.scatter(df['x1'], df['x2'])\n",
    "plt.xlabel(\"X1\", fontsize=15)\n",
    "plt.ylabel(\"X2\", fontsize=15)\n",
    "plt.grid()\n",
    "plt.show()"
   ]
  },
  {
   "cell_type": "code",
   "execution_count": 4,
   "metadata": {},
   "outputs": [
    {
     "name": "stdout",
     "output_type": "stream",
     "text": [
      "Clusters are\n",
      " [[3.418 0.244]\n",
      " [2.872 1.676]]\n",
      "[0 0 0 0 0 0 0 0 0 0 0 0 0 0 0 0 0 0 0 0 0 0 0 0 0 0 0 0 0 0 0 0 0 0 0 0 0\n",
      " 0 0 0 0 0 0 0 0 0 0 0 0 0 1 1 1 1 1 1 1 1 1 1 1 1 1 1 1 1 1 1 1 1 1 1 1 1\n",
      " 1 1 1 1 1 1 1 1 1 1 1 1 1 1 1 1 1 1 1 1 1 1 1 1 1 1 1 1 1 1 1 1 1 1 1 1 1\n",
      " 1 1 1 1 1 1 1 1 1 1 1 1 1 1 1 1 1 1 1 1 1 1 1 1 1 1 1 1 1 1 1 1 1 1 1 1 1\n",
      " 1 1]\n"
     ]
    }
   ],
   "source": [
    "kmeans = KMeans(n_clusters=2, init='random')\n",
    "model = kmeans.fit(df)\n",
    "y_kmeans = model.predict(df)\n",
    "\n",
    "c = kmeans.cluster_centers_\n",
    "print(\"Clusters are\\n\", c)\n",
    "print(y_kmeans)"
   ]
  },
  {
   "cell_type": "code",
   "execution_count": 5,
   "metadata": {},
   "outputs": [
    {
     "data": {
      "image/png": "[encoded data removed]",
      "text/plain": [
       "<Figure size 432x288 with 1 Axes>"
      ]
     },
     "metadata": {},
     "output_type": "display_data"
    }
   ],
   "source": [
    "cluster1 = df[y_kmeans==0]\n",
    "cluster2 = df[y_kmeans==1]\n",
    "\n",
    "plt.figure()\n",
    "plt.scatter(cluster1['x1'], cluster1['x2'], label='Cluster 1', c='r')\n",
    "plt.scatter(cluster2['x1'], cluster2['x2'], label='Cluster 2', c='g')\n",
    "plt.scatter(kmeans.cluster_centers_[:, 0], kmeans.cluster_centers_[:, 1], c='black', s=100)\n",
    "plt.legend()\n",
    "plt.grid()\n",
    "plt.xlabel(\"X1\", fontsize=15)\n",
    "plt.ylabel(\"X2\", fontsize=15)\n",
    "plt.show()"
   ]
  },
  {
   "cell_type": "markdown",
   "metadata": {},
   "source": [
    "## Mean Distance of each cluster"
   ]
  },
  {
   "cell_type": "code",
   "execution_count": 6,
   "metadata": {},
   "outputs": [
    {
     "name": "stdout",
     "output_type": "stream",
     "text": [
      "0.3164973377229503\n",
      "0.4790063238808089\n"
     ]
    }
   ],
   "source": [
    "import numpy as np\n",
    "\n",
    "c1_centroid = c[0]\n",
    "c2_centroid = c[1]\n",
    "\n",
    "c1_distances = \\\n",
    "cluster1.apply(lambda x: np.sqrt((x[0]-c1_centroid[0])**2 + (x[1]-c1_centroid[1])**2), axis=1)\n",
    "c2_distances = \\\n",
    "cluster2.apply(lambda x: np.sqrt((x[0]-c2_centroid[0])**2 + (x[1]-c2_centroid[1])**2), axis=1)\n",
    "print(c1_distances.mean())\n",
    "print(c2_distances.mean())"
   ]
  },
  {
   "cell_type": "code",
   "execution_count": 7,
   "metadata": {},
   "outputs": [
    {
     "name": "stdout",
     "output_type": "stream",
     "text": [
      "2.6684717607142363\n",
      "5.879294168219354\n"
     ]
    }
   ],
   "source": [
    "c1_square_error = c1_distances.apply(lambda x: (x-c1_distances.mean())**2)\n",
    "c2_square_error = c2_distances.apply(lambda x: (x-c2_distances.mean())**2)\n",
    "print(c1_square_error.sum())\n",
    "print(c2_square_error.sum())"
   ]
  },
  {
   "cell_type": "code",
   "execution_count": 18,
   "metadata": {},
   "outputs": [
    {
     "data": {
      "image/png": "[encoded data removed]",
      "text/plain": [
       "<Figure size 432x288 with 1 Axes>"
      ]
     },
     "metadata": {},
     "output_type": "display_data"
    }
   ],
   "source": [
    "c1_max_point = df.iloc[c1_distances.idxmax()].tolist()\n",
    "c2_max_point = df.iloc[c2_distances.idxmax()].tolist()\n",
    "\n",
    "plt.figure()\n",
    "plt.scatter(cluster1['x1'], cluster1['x2'], label='Cluster 1', c='r')\n",
    "plt.scatter(cluster2['x1'], cluster2['x2'], label='Cluster 2', c='g')\n",
    "plt.plot([c1_centroid[0], c1_max_point[0]], [c1_centroid[1], c1_max_point[1]], c='b', linewidth=3)\n",
    "plt.plot([c2_centroid[0], c2_max_point[0]], [c2_centroid[1], c2_max_point[1]], c='b', linewidth=3)\n",
    "plt.scatter(kmeans.cluster_centers_[:, 0], kmeans.cluster_centers_[:, 1], c='black', s=100)\n",
    "plt.legend()\n",
    "plt.grid()\n",
    "plt.xlabel(\"X1\", fontsize=15)\n",
    "plt.ylabel(\"X2\", fontsize=15)\n",
    "plt.show()"
   ]
  },
  {
   "cell_type": "code",
   "execution_count": null,
   "metadata": {},
   "outputs": [],
   "source": []
  }
 ],
 "metadata": {
  "kernelspec": {
   "display_name": "Python 3",
   "language": "python",
   "name": "python3"
  },
  "language_info": {
   "codemirror_mode": {
    "name": "ipython",
    "version": 3
   },
   "file_extension": ".py",
   "mimetype": "text/x-python",
   "name": "python",
   "nbconvert_exporter": "python",
   "pygments_lexer": "ipython3",
   "version": "3.6.5"
  }
 },
 "nbformat": 4,
 "nbformat_minor": 2
}
