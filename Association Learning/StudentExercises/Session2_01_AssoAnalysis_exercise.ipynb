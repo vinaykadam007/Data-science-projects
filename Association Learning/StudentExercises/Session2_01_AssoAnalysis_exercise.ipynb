{
 "cells": [
  {
   "cell_type": "markdown",
   "metadata": {},
   "source": [
    "## Excercise - Find Combo Meal options from McDonald Order History\n",
    "\n",
    "The McDonald india purchase order history is imported in this notebook. It gives detail of individual purchases made by customer. data is arranged in XLSX format where each row represents order placed by individual customer. first column in each row is the invoice number. \n",
    "\n",
    "Detail of McDonals Menu can be obtained from following link [McDonald India Menu](https://www.mcdonaldsindia.com/products.html)\n",
    "\n",
    "Analyse the data and and answer following questions. \n",
    "Remove all the NaNs from the data before proceeding.\n",
    "\n",
    "### 1. Find out most sold Spicy delight item from the dataset\n",
    "### 2. What is the percentage of Coke, French Fries sold from this dataset(separate values)? \n",
    "### 3. Which is the most frequent item sold in the purchases? Justify using an analysis based on data and association learning. Are the results same?\n",
    "### 4. Find out most sold item from the dataset\n",
    "### 5. Find out most preferred beverage\n",
    "### 6. Can you find out any trends, to decide which menu items should be removed from the list? Based on invoice?\n",
    "### 7. While customer is on purchase couter, we need to suggest menu items. Can you simple application to suggest 3 items while customer is on the counter. Prepare solutions for 2 cases, when the customer has already told you the first item, and you have to suggest based on that item. The second is when You suggest the first one, and if customer says yes or no, suggest the next item\n",
    "### 8. Based on order history, can McDonald suggest some combo meals?\n"
   ]
  },
  {
   "cell_type": "code",
   "execution_count": 1,
   "metadata": {},
   "outputs": [],
   "source": [
    "import pandas as pd\n",
    "\n",
    "data = pd.read_excel(\"./data/mcd.xlsx\", index_col=None, header=None)"
   ]
  },
  {
   "cell_type": "markdown",
   "metadata": {},
   "source": [
    "## Your code goes below this"
   ]
  },
  {
   "cell_type": "code",
   "execution_count": null,
   "metadata": {},
   "outputs": [],
   "source": []
  }
 ],
 "metadata": {
  "kernelspec": {
   "display_name": "Python 3",
   "language": "python",
   "name": "python3"
  },
  "language_info": {
   "codemirror_mode": {
    "name": "ipython",
    "version": 3
   },
   "file_extension": ".py",
   "mimetype": "text/x-python",
   "name": "python",
   "nbconvert_exporter": "python",
   "pygments_lexer": "ipython3",
   "version": "3.6.4"
  }
 },
 "nbformat": 4,
 "nbformat_minor": 2
}
