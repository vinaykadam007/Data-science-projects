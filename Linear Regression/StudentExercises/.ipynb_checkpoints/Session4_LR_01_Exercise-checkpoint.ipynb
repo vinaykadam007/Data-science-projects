{
 "cells": [
  {
   "cell_type": "markdown",
   "metadata": {},
   "source": [
    "## Exercise - Linear Regression with Stock Prices Indices\n",
    "\n",
    "The stocks.csv file contains stock prices for 4 months. There is one input variable(input) & one target variable(price). We have to perform linear regression on these prices to predict future prices. \n",
    "Observe the data in the columns 'input' and 'date'. The input is odd in number, and dates are too. \n",
    "\n",
    "Perform regression analysis on the data, and answer the following questions\n",
    "### 1. Plot a scatter plot of input vs price. The xticks on the graph should contain dates in vertical position. \n",
    "### 2. Calculate mean and standard deviation of price. Find out outliers(value greater than 1.5 standard deviations) in your data. List them down. \n",
    "### 3. Filter out rows in your dataset, whose price is greater than 1.5 standard deviations. Plot a scatter of input vs price, with outliers in a different color.\n",
    "### 4. Now split your data in Test & Training input. Perform a 75:25 split, i.e first 3 month data is training set, and last 1 month data is test. Perform linear regression on the training data. Plot the line on a graph along with a scatter of input and price of the training dataset. \n",
    "### 5. Predict the prices using the test dataset. Plot a scatter of test price vs obtained price. Find the MSE, R^2 score of the predicted prices. \n",
    "### 6. Now split your data with a 75:25 ratio using the train_test_split function. Perform steps 5 & 6 over this split and compare your answers. \n",
    "### 7. On the entire dataset, perform K Fold cross validation where k goes from 3-10. Print the average accuracy obtained for each value of k. "
   ]
  },
  {
   "cell_type": "code",
   "execution_count": 1,
   "metadata": {},
   "outputs": [],
   "source": [
    "import pandas as pd"
   ]
  },
  {
   "cell_type": "code",
   "execution_count": 2,
   "metadata": {},
   "outputs": [
    {
     "name": "stdout",
     "output_type": "stream",
     "text": [
      "   input        date       price\n",
      "0      1  01-01-2010   99.722049\n",
      "1      3  03-01-2010  109.727295\n",
      "2      5  05-01-2010  110.343276\n",
      "3      7  07-01-2010   92.669619\n",
      "4      9  09-01-2010  105.517622\n"
     ]
    }
   ],
   "source": [
    "df = pd.read_csv('./data/stocks.csv')\n",
    "print(df.head())"
   ]
  },
  {
   "cell_type": "markdown",
   "metadata": {},
   "source": [
    "## Your code goes here"
   ]
  },
  {
   "cell_type": "code",
   "execution_count": null,
   "metadata": {},
   "outputs": [],
   "source": []
  }
 ],
 "metadata": {
  "kernelspec": {
   "display_name": "Python 3",
   "language": "python",
   "name": "python3"
  },
  "language_info": {
   "codemirror_mode": {
    "name": "ipython",
    "version": 3
   },
   "file_extension": ".py",
   "mimetype": "text/x-python",
   "name": "python",
   "nbconvert_exporter": "python",
   "pygments_lexer": "ipython3",
   "version": "3.6.5"
  }
 },
 "nbformat": 4,
 "nbformat_minor": 2
}
