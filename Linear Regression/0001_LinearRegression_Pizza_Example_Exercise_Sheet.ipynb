{
 "cells": [
  {
   "cell_type": "markdown",
   "metadata": {},
   "source": [
    "## Excercise 1 - Single Variable Linear Regression SGD and OLS Method\n",
    "\n",
    "Simple linear regression can be used to model a linear relationship between one response variable and one explanatory variable\n",
    "\n",
    "Predicting Pizza prices\n",
    "\n",
    "Let's model the relationship between the size of a pizza and its price. First,\n",
    "we will write a program with scikit-learn that can predict the price of a pizza given  its size. Then, we will discuss how simple linear regression works and how it can  be generalized to work with other types of problems. Let's assume that you have  recorded the diameters and prices of pizzas that you have previously eaten in your pizza journal\n",
    "\n",
    "Training instance Diameter (in inches) Price (in dollars)\n",
    "\n",
    "| Sr.Number | Pizza Diameter | Price in $ | \n",
    "|-----------|----------------|------------| \n",
    "| 1         | 6              | 7          | \n",
    "| 2         | 8              | 9          | \n",
    "| 3         | 10             | 13         | \n",
    "| 4         | 14             | 17.5       | \n",
    "| 5         | 18             | 18         | "
   ]
  },
  {
   "cell_type": "code",
   "execution_count": 2,
   "metadata": {},
   "outputs": [],
   "source": [
    "%matplotlib inline\n",
    "import matplotlib.pyplot as plt\n",
    "\n",
    "PSize = [[6], [8], [10], [14], [18]]\n",
    "PPrice = [[7], [9], [13], [17.5], [18]]"
   ]
  },
  {
   "cell_type": "code",
   "execution_count": 3,
   "metadata": {},
   "outputs": [],
   "source": [
    "# Start your code from here"
   ]
  },
  {
   "cell_type": "markdown",
   "metadata": {},
   "source": [
    "#### Questions to Asnwer\n",
    "\n",
    "### 1. Fit the model with OLS and SGD Method\n",
    "\n"
   ]
  },
  {
   "cell_type": "code",
   "execution_count": null,
   "metadata": {},
   "outputs": [],
   "source": []
  },
  {
   "cell_type": "markdown",
   "metadata": {},
   "source": [
    "### 2. Plot the graph of prediction versus actual price of items \n"
   ]
  },
  {
   "cell_type": "code",
   "execution_count": null,
   "metadata": {},
   "outputs": [],
   "source": []
  },
  {
   "cell_type": "markdown",
   "metadata": {},
   "source": [
    "### 3. What is the estimated price of 13 inch pizza\n"
   ]
  },
  {
   "cell_type": "code",
   "execution_count": null,
   "metadata": {},
   "outputs": [],
   "source": []
  },
  {
   "cell_type": "markdown",
   "metadata": {},
   "source": [
    "### 4. What is the extimate price of 22 inch Mega Pizza\n"
   ]
  },
  {
   "cell_type": "code",
   "execution_count": null,
   "metadata": {},
   "outputs": [],
   "source": []
  },
  {
   "cell_type": "markdown",
   "metadata": {},
   "source": [
    "### 5. It is observed that very few customer ordered 10 and 14 inch pizzas, "
   ]
  },
  {
   "cell_type": "code",
   "execution_count": null,
   "metadata": {},
   "outputs": [],
   "source": []
  }
 ],
 "metadata": {
  "kernelspec": {
   "display_name": "Python 3",
   "language": "python",
   "name": "python3"
  },
  "language_info": {
   "codemirror_mode": {
    "name": "ipython",
    "version": 3
   },
   "file_extension": ".py",
   "mimetype": "text/x-python",
   "name": "python",
   "nbconvert_exporter": "python",
   "pygments_lexer": "ipython3",
   "version": "3.6.4"
  }
 },
 "nbformat": 4,
 "nbformat_minor": 2
}
