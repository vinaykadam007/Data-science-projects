{
 "cells": [
  {
   "cell_type": "markdown",
   "metadata": {},
   "source": [
    "# Exercise - Logistic Regression Classify Message as a Spam\n",
    "\n",
    "The dataset contains text messages which were classified as spam or ham(non spam). It is available at http://archive.ics.uci.edu/ml/datasets/SMS+Spam+Collection. We are using the SMSSpamCollection file. \n",
    "\n",
    "The idea is to make a model which will understand whether a message is spam or not. Thus text has to be pre-processed to find out context based on which classification will occur. \n",
    "\n",
    "### Perform the following operations:\n",
    "\n",
    "1. Import the file using pandas into python. The spam column contains two labels, spam & ham. Convert all spam to 1, and ham to 0. \n",
    "2. Find out the distribution of spam & non spam messages. Plot a bar chart for the same. \n",
    "3. Lets get to our model. Our model needs to train on both spam & non spam messages. So prepare your training(X_train) and test(X_test) dataset such that there are equal number of spam & non spam messages in them. The test data can have unequal proportions. Plot a bar chart showing the distributions of spam & non spam for both datasets.\n",
    "\n",
    "##### To extract content out of our messages, we need to find out its context. Context is found out using sklearn's TFIDF vectorizer. So transform X_train and X_test to the sparse matrix using fit_transform method of TFIDF and pass it to the fit method.\n",
    "\n",
    "5. Train your logistic Regression model with tranformed training dataset. Predict the output for each message on the test data. 6. Obtain the confusion matrix for the predicted output and test output. Plot the heatmap for the same. \n",
    "7. Find out the classification report(Precision, Recall, F1Score) and the accuracy of the model. \n",
    "8. Plot the ROC curve of the predicted output. \n",
    "\n",
    "### Once this procedure is over, split your data into training and test dataset using the train_test_split function for two random states, 5 and 8. Repeat steps 3 through 8 and compare the output with the manually splitted model. Which one is better? \n",
    "\n",
    "### Perform KFold Cross validation scoring for k = 3 to 20. What is the accuracy for the 3 models above?"
   ]
  },
  {
   "cell_type": "code",
   "execution_count": 18,
   "metadata": {},
   "outputs": [],
   "source": [
    "import pandas as pd\n",
    "import matplotlib.pyplot as plt\n",
    "import numpy as np\n",
    "from sklearn.linear_model import LogisticRegression\n",
    "from sklearn.model_selection import train_test_split\n",
    "from sklearn import metrics \n",
    "from sklearn.feature_extraction.text import TfidfVectorizer"
   ]
  },
  {
   "cell_type": "code",
   "execution_count": 2,
   "metadata": {},
   "outputs": [
    {
     "data": {
      "text/html": [
       "<div>\n",
       "<style scoped>\n",
       "    .dataframe tbody tr th:only-of-type {\n",
       "        vertical-align: middle;\n",
       "    }\n",
       "\n",
       "    .dataframe tbody tr th {\n",
       "        vertical-align: top;\n",
       "    }\n",
       "\n",
       "    .dataframe thead th {\n",
       "        text-align: right;\n",
       "    }\n",
       "</style>\n",
       "<table border=\"1\" class=\"dataframe\">\n",
       "  <thead>\n",
       "    <tr style=\"text-align: right;\">\n",
       "      <th></th>\n",
       "      <th>spam</th>\n",
       "      <th>message</th>\n",
       "    </tr>\n",
       "  </thead>\n",
       "  <tbody>\n",
       "    <tr>\n",
       "      <th>0</th>\n",
       "      <td>ham</td>\n",
       "      <td>Go until jurong point, crazy.. Available only ...</td>\n",
       "    </tr>\n",
       "    <tr>\n",
       "      <th>1</th>\n",
       "      <td>ham</td>\n",
       "      <td>Ok lar... Joking wif u oni...</td>\n",
       "    </tr>\n",
       "    <tr>\n",
       "      <th>2</th>\n",
       "      <td>spam</td>\n",
       "      <td>Free entry in 2 a wkly comp to win FA Cup fina...</td>\n",
       "    </tr>\n",
       "    <tr>\n",
       "      <th>3</th>\n",
       "      <td>ham</td>\n",
       "      <td>U dun say so early hor... U c already then say...</td>\n",
       "    </tr>\n",
       "    <tr>\n",
       "      <th>4</th>\n",
       "      <td>ham</td>\n",
       "      <td>Nah I don't think he goes to usf, he lives aro...</td>\n",
       "    </tr>\n",
       "  </tbody>\n",
       "</table>\n",
       "</div>"
      ],
      "text/plain": [
       "   spam                                            message\n",
       "0   ham  Go until jurong point, crazy.. Available only ...\n",
       "1   ham                      Ok lar... Joking wif u oni...\n",
       "2  spam  Free entry in 2 a wkly comp to win FA Cup fina...\n",
       "3   ham  U dun say so early hor... U c already then say...\n",
       "4   ham  Nah I don't think he goes to usf, he lives aro..."
      ]
     },
     "execution_count": 2,
     "metadata": {},
     "output_type": "execute_result"
    }
   ],
   "source": [
    "df = pd.read_csv('./data/SMSSpamCollection', delimiter='\\t', header=None, names=['spam', 'message'])\n",
    "df.head()"
   ]
  },
  {
   "cell_type": "code",
   "execution_count": null,
   "metadata": {},
   "outputs": [],
   "source": []
  }
 ],
 "metadata": {
  "kernelspec": {
   "display_name": "Python 3",
   "language": "python",
   "name": "python3"
  },
  "language_info": {
   "codemirror_mode": {
    "name": "ipython",
    "version": 3
   },
   "file_extension": ".py",
   "mimetype": "text/x-python",
   "name": "python",
   "nbconvert_exporter": "python",
   "pygments_lexer": "ipython3",
   "version": "3.6.4"
  }
 },
 "nbformat": 4,
 "nbformat_minor": 2
}
