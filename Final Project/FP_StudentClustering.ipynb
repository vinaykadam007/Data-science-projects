{
 "cells": [
  {
   "cell_type": "markdown",
   "metadata": {},
   "source": [
    "# Student Clustering\n",
    "\n",
    "The 'Indian_Student_Data.csv' file contains different countries and the percentage of Indian students studying in them. The countries are listed by name, latitude & longitude and a country code. \n",
    "\n",
    "We have to cluster students based on their numbers and country and plot on plotly's geographical map. \n",
    "\n",
    "Solve the following questions:\n",
    "1. Choose the number of clusters by observing the data distribution. Justify your choice of clusters. \n",
    "2. Run the KMeans clustering algorithm and chosen number of clusters in Qt 1. Use the features latitude, longitude, percentage for the clustering. \n",
    "3. Plot the clusters on the plotly's geographical map. The graphs should look like this below (colors can vary). \\\n",
    "4. **BONUS** For every cluster you make, find out the sum of sqaured errors. https://en.wikipedia.org/wiki/Partition_of_sums_of_squares#Background. \n",
    "\n",
    "![Image](./data/StudentClustering_plotly.png)"
   ]
  },
  {
   "cell_type": "code",
   "execution_count": 1,
   "metadata": {},
   "outputs": [
    {
     "data": {
      "text/html": [
       "<div>\n",
       "<style scoped>\n",
       "    .dataframe tbody tr th:only-of-type {\n",
       "        vertical-align: middle;\n",
       "    }\n",
       "\n",
       "    .dataframe tbody tr th {\n",
       "        vertical-align: top;\n",
       "    }\n",
       "\n",
       "    .dataframe thead th {\n",
       "        text-align: right;\n",
       "    }\n",
       "</style>\n",
       "<table border=\"1\" class=\"dataframe\">\n",
       "  <thead>\n",
       "    <tr style=\"text-align: right;\">\n",
       "      <th></th>\n",
       "      <th>country</th>\n",
       "      <th>no_of_indian_students</th>\n",
       "      <th>percentage</th>\n",
       "      <th>latitude</th>\n",
       "      <th>longitude</th>\n",
       "      <th>code</th>\n",
       "    </tr>\n",
       "  </thead>\n",
       "  <tbody>\n",
       "    <tr>\n",
       "      <th>0</th>\n",
       "      <td>United States of America</td>\n",
       "      <td>165918</td>\n",
       "      <td>37.134985</td>\n",
       "      <td>39.783730</td>\n",
       "      <td>-100.445882</td>\n",
       "      <td>USA</td>\n",
       "    </tr>\n",
       "    <tr>\n",
       "      <th>1</th>\n",
       "      <td>Australia</td>\n",
       "      <td>66886</td>\n",
       "      <td>14.970109</td>\n",
       "      <td>-24.776109</td>\n",
       "      <td>134.755000</td>\n",
       "      <td>AUS</td>\n",
       "    </tr>\n",
       "    <tr>\n",
       "      <th>2</th>\n",
       "      <td>Canada</td>\n",
       "      <td>50000</td>\n",
       "      <td>11.190764</td>\n",
       "      <td>61.066692</td>\n",
       "      <td>-107.991707</td>\n",
       "      <td>CAN</td>\n",
       "    </tr>\n",
       "    <tr>\n",
       "      <th>3</th>\n",
       "      <td>New Zealand</td>\n",
       "      <td>32000</td>\n",
       "      <td>7.162089</td>\n",
       "      <td>-41.500083</td>\n",
       "      <td>172.834408</td>\n",
       "      <td>NZL</td>\n",
       "    </tr>\n",
       "    <tr>\n",
       "      <th>4</th>\n",
       "      <td>Bahrain</td>\n",
       "      <td>27000</td>\n",
       "      <td>6.043013</td>\n",
       "      <td>35.207801</td>\n",
       "      <td>72.547397</td>\n",
       "      <td>BHR</td>\n",
       "    </tr>\n",
       "  </tbody>\n",
       "</table>\n",
       "</div>"
      ],
      "text/plain": [
       "                    country  no_of_indian_students  percentage   latitude  \\\n",
       "0  United States of America                 165918   37.134985  39.783730   \n",
       "1                 Australia                  66886   14.970109 -24.776109   \n",
       "2                    Canada                  50000   11.190764  61.066692   \n",
       "3               New Zealand                  32000    7.162089 -41.500083   \n",
       "4                   Bahrain                  27000    6.043013  35.207801   \n",
       "\n",
       "    longitude code  \n",
       "0 -100.445882  USA  \n",
       "1  134.755000  AUS  \n",
       "2 -107.991707  CAN  \n",
       "3  172.834408  NZL  \n",
       "4   72.547397  BHR  "
      ]
     },
     "execution_count": 1,
     "metadata": {},
     "output_type": "execute_result"
    }
   ],
   "source": [
    "import pandas as pd\n",
    "import numpy as np\n",
    "import matplotlib.pyplot as plt\n",
    "\n",
    "df = pd.read_csv(\"./data/Indian_Student_Data.csv\")\n",
    "df.head()"
   ]
  }
 ],
 "metadata": {
  "kernelspec": {
   "display_name": "Python 3",
   "language": "python",
   "name": "python3"
  },
  "language_info": {
   "codemirror_mode": {
    "name": "ipython",
    "version": 3
   },
   "file_extension": ".py",
   "mimetype": "text/x-python",
   "name": "python",
   "nbconvert_exporter": "python",
   "pygments_lexer": "ipython3",
   "version": "3.7.2"
  }
 },
 "nbformat": 4,
 "nbformat_minor": 2
}
