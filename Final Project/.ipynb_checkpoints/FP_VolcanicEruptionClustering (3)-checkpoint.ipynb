{
 "cells": [
  {
   "cell_type": "markdown",
   "metadata": {},
   "source": [
    "# Final Project - Clustering Volcanoes according to eruption time\n",
    "\n",
    "The 'eruptions.csv' file contains 10000 rows of volcanic activity information. The first column is the duration of the eruption, and the second is time between two eruptions. Clustering should be applied on the entire dataset. \n",
    "\n",
    "### Perform the following operations:\n",
    "1. Read the dataset in python using pandas. Plot a scatter of the two columns. \n",
    "2. Run the Kmeans algorithm on this dataset(using random). Choose the appropriate number of clusters for this data. \n",
    "3. Plot the output of Kmeans, colored according to clusters and obtained centroids. \n",
    "5. For each cluster plot the line from the centroid to the farthest point in the cluster. \n",
    "6. Find out all the points in the cluster which have a distance greater than the mean of the cluster, . \n",
    "6. What is average distance of each cluster? (From the centroid to all points in the cluster)\n",
    "7. For the following points, find out which cluster they fall in?  \n",
    "dur_eruptions = 2.5, 3.0, 3.2, 4.5, 5.0, 1.5  \n",
    "wait_time_btn_eruptions = 70, 55, 70, 80, 70, 100  \n",
    "Plot these points in separate markers & color along with the clusters"
   ]
  },
  {
   "cell_type": "code",
   "execution_count": null,
   "metadata": {},
   "outputs": [],
   "source": [
    "import pandas as pd\n",
    "import matplotlib.pyplot as plt\n",
    "from sklearn.cluster import KMeans\n",
    "import numpy as np"
   ]
  },
  {
   "cell_type": "code",
   "execution_count": null,
   "metadata": {},
   "outputs": [],
   "source": [
    "df = pd.read_csv('eruptions.csv')\n",
    "df.head()"
   ]
  },
  {
   "cell_type": "markdown",
   "metadata": {},
   "source": [
    "### Read the dataset in python using pandas. Plot a scatter of the two columns."
   ]
  },
  {
   "cell_type": "code",
   "execution_count": null,
   "metadata": {},
   "outputs": [],
   "source": [
    "plt.scatter(df['dur_eruptions'],df['wait_time_btn_eruptions'] )\n",
    "plt.xlabel('dur_eruptions')\n",
    "plt.ylabel('wait_time_btn_eruptions')\n",
    "plt.title('dur_eruptions vs wait_time_btn_eruptions')\n",
    "plt.legend()\n",
    "plt.grid()"
   ]
  },
  {
   "cell_type": "markdown",
   "metadata": {},
   "source": [
    "### Run the Kmeans algorithm on this dataset(using random). Choose the appropriate number of clusters for this data"
   ]
  },
  {
   "cell_type": "code",
   "execution_count": null,
   "metadata": {},
   "outputs": [],
   "source": [
    "from sklearn.cluster import KMeans\n",
    "list1=[]\n",
    "n_clusters = 10\n",
    "for k in range(1,10):\n",
    "    kmeans=KMeans(n_clusters=k,init='random',n_init=10,max_iter=300,random_state=0) \n",
    "    kmeans.fit(df)\n",
    "    list1.append(kmeans.inertia_)\n",
    "\n",
    "\n",
    "\n",
    "plt.plot(range(1,n_clusters), list1)\n",
    "list1\n"
   ]
  },
  {
   "cell_type": "markdown",
   "metadata": {},
   "source": [
    "### Plot the output of Kmeans, colored according to clusters and obtained centroids"
   ]
  },
  {
   "cell_type": "code",
   "execution_count": null,
   "metadata": {},
   "outputs": [],
   "source": [
    "k=KMeans(n_clusters=2,max_iter=300,init='random')\n",
    "y=k.fit_predict(df)\n",
    "print(y)\n",
    "result=k.cluster_centers_\n",
    "print(result)\n"
   ]
  },
  {
   "cell_type": "markdown",
   "metadata": {},
   "source": [
    "### For each cluster plot the line from the centroid to the farthest point in the cluster."
   ]
  },
  {
   "cell_type": "code",
   "execution_count": null,
   "metadata": {},
   "outputs": [],
   "source": [
    "plt.scatter(df['dur_eruptions'],df['wait_time_btn_eruptions'],c=y,s=50,cmap='autumn')\n",
    "plt.grid()\n",
    "plt.scatter(k.cluster_centers_[:,0],k.cluster_centers_[:,1],color='black',s=60)"
   ]
  },
  {
   "cell_type": "markdown",
   "metadata": {},
   "source": [
    "### Find out all the points in the cluster which have a distance greater than the mean of the cluster, "
   ]
  },
  {
   "cell_type": "code",
   "execution_count": null,
   "metadata": {},
   "outputs": [],
   "source": [
    "p0=np.array(df[y==0])\n",
    "p1=np.array(df[y==1])\n"
   ]
  },
  {
   "cell_type": "code",
   "execution_count": null,
   "metadata": {},
   "outputs": [],
   "source": [
    "d0=0 \n",
    "s0=0\n",
    "for i in range(0,len(p0)):\n",
    "    d1=np.linalg.norm(result[0]-p0[i])\n",
    "    s0=s0+d1\n",
    "#     print(d1)\n",
    "#     print(s0)\n",
    "\n",
    "mean=s0/len(p0)\n",
    "# print(mean)\n",
    "print(\"For 1st cluster\")\n",
    "for i in range(0,len(p0)):\n",
    "    d1=np.linalg.norm(result[0]-p0[i])\n",
    "    if d1>mean:\n",
    "        farp0=p0[i]\n",
    "        #print(\"Point {0} is greater \".format(p0[i]))\n",
    "print(farp0)\n",
    "\n"
   ]
  },
  {
   "cell_type": "code",
   "execution_count": null,
   "metadata": {},
   "outputs": [],
   "source": [
    "d0=0 \n",
    "s0=0\n",
    "for i in range(0,len(p1)):\n",
    "    d1=np.linalg.norm(result[1]-p1[i])\n",
    "    s0=s0+d1\n",
    "#     print(d1)\n",
    "#     print(s0)\n",
    "\n",
    "mean=s0/len(p1)\n",
    "# print(mean)\n",
    "print(\"For 2nd cluster\")\n",
    "for i in range(0,len(p1)):\n",
    "    d1=np.linalg.norm(result[1]-p1[i])\n",
    "    if d1>mean:\n",
    "        farp1=p1[i]\n",
    "        #print(\"Point {0} is greater \".format(p1[i]))\n",
    "print(farp1)"
   ]
  },
  {
   "cell_type": "markdown",
   "metadata": {},
   "source": [
    "### What is average distance of each cluster? (From the centroid to all points in the cluster)"
   ]
  },
  {
   "cell_type": "code",
   "execution_count": null,
   "metadata": {},
   "outputs": [],
   "source": [
    "x1,x2= result[0][0],farp0[0]\n",
    "y1,y2= result[0][1],farp0[1]\n",
    "\n",
    "result0=(((y2-y1)**2)+((x2-x1)**2))**0.5\n",
    "\n",
    "print(\"Distance of cluster 1 is {0}\".format(result0))\n",
    "\n",
    "x1,x2= result[1][0],farp1[0]\n",
    "y1,y2= result[1][1],farp1[1]\n",
    "\n",
    "result1=(((y2-y1)**2)+((x2-x1)**2))**0.5\n",
    "\n",
    "print(\"Distance of cluster 2 is {0}\".format(result1))\n",
    "\n",
    "\n"
   ]
  },
  {
   "cell_type": "markdown",
   "metadata": {},
   "source": [
    "### For the following points, find out which cluster they fall in?\n",
    "### dur_eruptions = 2.5, 3.0, 3.2, 4.5, 5.0, 1.5\n",
    "### wait_time_btn_eruptions = 70, 55, 70, 80, 70, 100\n",
    "### Plot these points in separate markers & color along with the clusters"
   ]
  },
  {
   "cell_type": "code",
   "execution_count": null,
   "metadata": {},
   "outputs": [],
   "source": [
    "d={\"duration\":[2.5, 3.0, 3.2, 4.5, 5.0, 1.5],\"waittime\":[70, 55, 70, 80, 70, 100]}\n",
    "d1=pd.DataFrame(data=d)\n",
    "d1\n",
    "\n",
    "m=k.predict(d1)\n",
    "print(m)\n",
    "\n",
    "d2=d1.drop(5)\n",
    "d2"
   ]
  },
  {
   "cell_type": "code",
   "execution_count": null,
   "metadata": {
    "scrolled": true
   },
   "outputs": [],
   "source": [
    "plt.scatter(df['dur_eruptions'],df['wait_time_btn_eruptions'],c=y,s=30,cmap='autumn')\n",
    "plt.grid()\n",
    "plt.scatter(k.cluster_centers_[:,0],k.cluster_centers_[:,1],color='black',s=60)\n",
    "\n",
    "\n",
    "plt.scatter(d1[\"duration\"],d1[\"waittime\"],s=200,marker='+',cmap='autumn',c=m)\n",
    "plt.axis([1.5,6,40,99])\n",
    "plt.xlabel('dur_eruptions')\n",
    "plt.ylabel('wait_time_btn_eruptions')\n",
    "plt.title('dur_eruptions vs wait_time_btn_eruptions')\n",
    "plt.grid()"
   ]
  }
 ],
 "metadata": {
  "kernelspec": {
   "display_name": "Python 3",
   "language": "python",
   "name": "python3"
  },
  "language_info": {
   "codemirror_mode": {
    "name": "ipython",
    "version": 3
   },
   "file_extension": ".py",
   "mimetype": "text/x-python",
   "name": "python",
   "nbconvert_exporter": "python",
   "pygments_lexer": "ipython3",
   "version": "3.6.5"
  }
 },
 "nbformat": 4,
 "nbformat_minor": 2
}
