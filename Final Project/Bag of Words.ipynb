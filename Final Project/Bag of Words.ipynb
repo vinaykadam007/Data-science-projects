{
 "cells": [
  {
   "cell_type": "code",
   "execution_count": 1,
   "metadata": {},
   "outputs": [],
   "source": [
    "import pandas as pd\n",
    "from sklearn.feature_extraction.text import CountVectorizer"
   ]
  },
  {
   "cell_type": "code",
   "execution_count": 7,
   "metadata": {},
   "outputs": [],
   "source": [
    "vectorizer = CountVectorizer(stop_words='english')\n",
    "corpus = [\"John likes to watch movies. Mary likes movies too.\", \n",
    "\"John also likes to watch football games.\"]"
   ]
  },
  {
   "cell_type": "code",
   "execution_count": 8,
   "metadata": {},
   "outputs": [],
   "source": [
    "X = vectorizer.fit_transform(corpus)"
   ]
  },
  {
   "cell_type": "code",
   "execution_count": 9,
   "metadata": {},
   "outputs": [
    {
     "name": "stdout",
     "output_type": "stream",
     "text": [
      "  (0, 4)\t1\n",
      "  (0, 5)\t2\n",
      "  (0, 6)\t1\n",
      "  (0, 3)\t2\n",
      "  (0, 2)\t1\n",
      "  (1, 1)\t1\n",
      "  (1, 0)\t1\n",
      "  (1, 6)\t1\n",
      "  (1, 3)\t1\n",
      "  (1, 2)\t1\n"
     ]
    }
   ],
   "source": [
    "print(X)"
   ]
  },
  {
   "cell_type": "code",
   "execution_count": 10,
   "metadata": {},
   "outputs": [
    {
     "name": "stdout",
     "output_type": "stream",
     "text": [
      "[[0 0 1 2 1 2 1]\n",
      " [1 1 1 1 0 0 1]]\n",
      "['football', 'games', 'john', 'likes', 'mary', 'movies', 'watch']\n"
     ]
    }
   ],
   "source": [
    "print(X.toarray())\n",
    "print(vectorizer.get_feature_names())"
   ]
  },
  {
   "cell_type": "code",
   "execution_count": 11,
   "metadata": {},
   "outputs": [
    {
     "name": "stdout",
     "output_type": "stream",
     "text": [
      "{'john': 2, 'likes': 3, 'watch': 6, 'movies': 5, 'mary': 4, 'football': 0, 'games': 1}\n"
     ]
    }
   ],
   "source": [
    "print(vectorizer.vocabulary_)"
   ]
  },
  {
   "cell_type": "code",
   "execution_count": 16,
   "metadata": {},
   "outputs": [
    {
     "name": "stdout",
     "output_type": "stream",
     "text": [
      "frozenset({'due', 'take', 'him', 'always', 'anywhere', 'whereupon', 'still', 'anything', 'also', 'or', 'please', 'etc', 'herself', 'moreover', 'over', 'else', 'otherwise', 'further', 'everyone', 'here', 'into', 'since', 'off', 'latterly', 'give', 'us', 'yourselves', 'than', 'no', 'therein', 'name', 'indeed', 'onto', 'how', 'besides', 'inc', 'least', 'am', 'become', 'five', 'up', 'which', 'above', 'thereupon', 'third', 'afterwards', 'de', 'within', 'elsewhere', 'a', 'its', 'very', 'less', 'through', 'find', 'eg', 'several', 'down', 'though', 'own', 'nevertheless', 'yours', 'again', 'an', 'first', 'hereby', 'amount', 'fifteen', 'however', 'may', 'nor', 'latter', 'every', 'hereafter', 'when', 'interest', 'thence', 'another', 'too', 'once', 'via', 'whoever', 'other', 'whereby', 'ie', 'on', 'their', 'thin', 'whereafter', 'formerly', 'cant', 'should', 'put', 'before', 'seem', 'side', 'former', 'has', 'these', 'they', 'twenty', 'thick', 'four', 'must', 'across', 'along', 'cannot', 'keep', 'perhaps', 'had', 'her', 'often', 'from', 'fire', 'seemed', 'all', 'ten', 'herein', 'namely', 'nothing', 'sometime', 'this', 'together', 'towards', 'do', 'although', 'back', 'i', 'cry', 'thru', 'against', 'none', 'at', 'mostly', 'my', 'she', 'ours', 'last', 'to', 'while', 'found', 'serious', 'behind', 'nowhere', 'others', 'where', 'same', 'might', 'in', 'now', 'ourselves', 'anyone', 'been', 'made', 'whom', 'whose', 're', 'therefore', 'becoming', 'himself', 'without', 'such', 'describe', 'why', 'much', 'almost', 'around', 'never', 'twelve', 'well', 'between', 'thus', 'those', 'we', 'un', 'but', 'three', 'and', 'throughout', 'bottom', 'more', 'nine', 'you', 'thereby', 'top', 'about', 'as', 'there', 'amoungst', 'many', 'neither', 'until', 'go', 'someone', 'them', 'couldnt', 'eight', 'ltd', 'anyway', 'if', 'because', 'beforehand', 'itself', 'are', 'be', 'rather', 'whole', 'below', 'during', 'front', 'show', 'whenever', 'it', 'even', 'could', 'me', 'of', 'noone', 'what', 'call', 'our', 'after', 'hers', 'already', 'beside', 'not', 'alone', 'hasnt', 'among', 'themselves', 'two', 'yet', 'each', 'get', 'would', 'for', 'amongst', 'whether', 'fifty', 'forty', 'his', 'myself', 'will', 'next', 'the', 'full', 'seeming', 'were', 'somewhere', 'see', 'only', 'seems', 'sixty', 'whatever', 'whereas', 'hundred', 'few', 'wherever', 'yourself', 'meanwhile', 'upon', 'being', 'nobody', 'becomes', 'empty', 'one', 'sincere', 'eleven', 'wherein', 'con', 'toward', 'enough', 'sometimes', 'system', 'ever', 'everywhere', 'per', 'hereupon', 'whence', 'whither', 'except', 'six', 'somehow', 'he', 'that', 'who', 'most', 'any', 'co', 'then', 'mill', 'some', 'mine', 'out', 'anyhow', 'have', 'fill', 'both', 'by', 'with', 'done', 'everything', 'hence', 'bill', 'so', 'something', 'thereafter', 'under', 'move', 'was', 'part', 'your', 'is', 'can', 'became', 'beyond', 'either', 'detail'})\n"
     ]
    }
   ],
   "source": [
    "print(vectorizer.get_stop_words())"
   ]
  },
  {
   "cell_type": "code",
   "execution_count": null,
   "metadata": {},
   "outputs": [],
   "source": []
  }
 ],
 "metadata": {
  "kernelspec": {
   "display_name": "Python 3",
   "language": "python",
   "name": "python3"
  },
  "language_info": {
   "codemirror_mode": {
    "name": "ipython",
    "version": 3
   },
   "file_extension": ".py",
   "mimetype": "text/x-python",
   "name": "python",
   "nbconvert_exporter": "python",
   "pygments_lexer": "ipython3",
   "version": "3.6.4"
  }
 },
 "nbformat": 4,
 "nbformat_minor": 2
}
