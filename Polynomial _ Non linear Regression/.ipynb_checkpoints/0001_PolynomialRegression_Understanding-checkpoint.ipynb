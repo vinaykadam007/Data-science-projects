{
 "cells": [
  {
   "cell_type": "markdown",
   "metadata": {},
   "source": [
    "# Non Linear / Polynomial Regression\n",
    "\n",
    "\n",
    "\\begin{align}\n",
    "y = \\left[1,\\thinspace a,\\thinspace b,\\thinspace a^{2},\\thinspace ab, \\thinspace b^{2} . . . \\right]\n",
    "\\end{align}"
   ]
  },
  {
   "cell_type": "code",
   "execution_count": 8,
   "metadata": {},
   "outputs": [
    {
     "data": {
      "image/png": "[encoded data removed]",
      "text/plain": [
       "<Figure size 432x288 with 1 Axes>"
      ]
     },
     "metadata": {
      "needs_background": "light"
     },
     "output_type": "display_data"
    }
   ],
   "source": [
    "%matplotlib inline\n",
    "import matplotlib.pyplot as plt\n",
    "\n",
    "X = [[6], [8], [10], [14], [18]]\n",
    "Y = [7, 9, 13, 13.5, 10]\n",
    "\n",
    "plt.figure()\n",
    "plt.plot(X, Y, 'go')\n",
    "plt.axis([0, 25, 0, 25])\n",
    "plt.grid(True)"
   ]
  },
  {
   "cell_type": "markdown",
   "metadata": {},
   "source": [
    "## Converting Nonlinear equations to linear problem"
   ]
  },
  {
   "cell_type": "code",
   "execution_count": 9,
   "metadata": {},
   "outputs": [
    {
     "data": {
      "text/plain": [
       "array([[1.000e+00, 6.000e+00, 3.600e+01, 2.160e+02],\n",
       "       [1.000e+00, 8.000e+00, 6.400e+01, 5.120e+02],\n",
       "       [1.000e+00, 1.000e+01, 1.000e+02, 1.000e+03],\n",
       "       [1.000e+00, 1.400e+01, 1.960e+02, 2.744e+03],\n",
       "       [1.000e+00, 1.800e+01, 3.240e+02, 5.832e+03]])"
      ]
     },
     "execution_count": 9,
     "metadata": {},
     "output_type": "execute_result"
    }
   ],
   "source": [
    "import numpy as np\n",
    "from sklearn.preprocessing import PolynomialFeatures \n",
    "from sklearn.linear_model import LinearRegression\n",
    "\n",
    "poly = PolynomialFeatures(degree=2)\n",
    "\n",
    "QuadraticCoeff = poly.fit_transform(X)\n",
    "QuadraticCoeff"
   ]
  },
  {
   "cell_type": "code",
   "execution_count": 10,
   "metadata": {},
   "outputs": [
    {
     "name": "stdout",
     "output_type": "stream",
     "text": [
      "Expected Output [7, 9, 13, 13.5, 10]\n",
      "Predicted Output\n",
      " [ 6.73214286  9.85714286 12.19642857 13.76785714  9.94642857]\n"
     ]
    }
   ],
   "source": [
    "Pmodel = LinearRegression()\n",
    "Pmodel.fit(QuadraticCoeff, Y)\n",
    "print(\"Expected Output\", Y)\n",
    "print(\"Predicted Output\\n\", Pmodel.predict(QuadraticCoeff))"
   ]
  },
  {
   "cell_type": "code",
   "execution_count": 11,
   "metadata": {
    "scrolled": true
   },
   "outputs": [
    {
     "data": {
      "image/png": "[encoded data removed]",
      "text/plain": [
       "<Figure size 432x288 with 1 Axes>"
      ]
     },
     "metadata": {
      "needs_background": "light"
     },
     "output_type": "display_data"
    }
   ],
   "source": [
    "#plotting the curve\n",
    "xx = np.linspace(0, 25, 101).reshape(-1,1)\n",
    "xx_quadratic = poly.fit_transform(xx)\n",
    "\n",
    "plt.axis([0, 25, 0, 25])\n",
    "plt.grid()\n",
    "plt.plot(xx, Pmodel.predict(xx_quadratic), \n",
    "         c='r',linestyle='--')\n",
    "plt.scatter(X, Y)\n",
    "plt.show()"
   ]
  },
  {
   "cell_type": "code",
   "execution_count": 12,
   "metadata": {},
   "outputs": [
    {
     "data": {
      "text/plain": [
       "0.949107142857143"
      ]
     },
     "execution_count": 12,
     "metadata": {},
     "output_type": "execute_result"
    }
   ],
   "source": [
    "Pmodel.score(QuadraticCoeff,Y)"
   ]
  },
  {
   "cell_type": "markdown",
   "metadata": {},
   "source": [
    "## Addition Understanding"
   ]
  },
  {
   "cell_type": "code",
   "execution_count": 6,
   "metadata": {},
   "outputs": [
    {
     "data": {
      "image/png": "[encoded data removed]",
      "text/plain": [
       "<Figure size 432x288 with 1 Axes>"
      ]
     },
     "metadata": {},
     "output_type": "display_data"
    }
   ],
   "source": [
    "Lmodel = LinearRegression()\n",
    "Lmodel.fit(X, Y)\n",
    "\n",
    "plt.axis([0, 25, 0, 25])\n",
    "plt.grid()\n",
    "plt.plot(xx, Pmodel.predict(xx_quadratic), \n",
    "         c='r',linestyle='--')\n",
    "plt.plot(xx, Lmodel.predict(Lmodel.predict(xx)), \n",
    "         c='b',linestyle='--')\n",
    "plt.scatter(X, Y)\n",
    "plt.show()\n"
   ]
  },
  {
   "cell_type": "code",
   "execution_count": 9,
   "metadata": {},
   "outputs": [
    {
     "name": "stdout",
     "output_type": "stream",
     "text": [
      "R Squared Value Linear  0.224497126437\n",
      "R Squared Value Polynomial  0.949107142857\n"
     ]
    }
   ],
   "source": [
    "print(\"R Squared Value Linear \", Lmodel.score(X, Y))\n",
    "print(\"R Squared Value Polynomial \", Pmodel.score(QuadraticCoeff, Y))"
   ]
  },
  {
   "cell_type": "code",
   "execution_count": null,
   "metadata": {},
   "outputs": [],
   "source": []
  }
 ],
 "metadata": {
  "kernelspec": {
   "display_name": "Python 3",
   "language": "python",
   "name": "python3"
  },
  "language_info": {
   "codemirror_mode": {
    "name": "ipython",
    "version": 3
   },
   "file_extension": ".py",
   "mimetype": "text/x-python",
   "name": "python",
   "nbconvert_exporter": "python",
   "pygments_lexer": "ipython3",
   "version": "3.7.2"
  }
 },
 "nbformat": 4,
 "nbformat_minor": 2
}
