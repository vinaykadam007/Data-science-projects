{
 "cells": [
  {
   "cell_type": "markdown",
   "metadata": {},
   "source": [
    "# Exercise - Polynomial(Non linear) Regression with semiconductor device I/V plot\n",
    "\n",
    "The dataset is a plot of current variation of a device based on the voltage applied. The output is non linear in nature. We have to predict current based on voltage with non linear regression. \n",
    "\n",
    "### Perform the following operations:\n",
    "\n",
    "1. Plot the voltage vs current. What degree of polynomial do you think is this?\n",
    "2. Split the data into training & testing. It should be a 70:30 split with random_state 2. Obtain polynomial features for training and testing dataset with degree 2. \n",
    "3. Perform linear regression on the transformed training dataset. Plot the polynomial curve obtained along with training data set. Does it underfit, properly fit or overfit?\n",
    "4. Predict the output for test dataset, and plot a scatter of test output vs obtained output. Obtain MSE and R^2 score. \n",
    "\n",
    "### Vary the degree from 2 to 10. For which values of degree does the data start to overfit? Plot the training dataset and obtained curve for each degree and justify.\n",
    "### Perform KFold Cross validation with k=3 to 10 for degree 2, 3, 4. \n"
   ]
  },
  {
   "cell_type": "code",
   "execution_count": 3,
   "metadata": {},
   "outputs": [],
   "source": [
    "import pandas as pd\n",
    "from sklearn.preprocessing import PolynomialFeatures\n",
    "from sklearn.model_selection import train_test_split\n",
    "from sklearn.linear_model import LinearRegression"
   ]
  },
  {
   "cell_type": "code",
   "execution_count": 4,
   "metadata": {},
   "outputs": [
    {
     "name": "stdout",
     "output_type": "stream",
     "text": [
      "   voltage   current\n",
      "0    -1.25 -3.164730\n",
      "1    -1.20 -2.346773\n",
      "2    -1.15 -1.305936\n",
      "3    -1.10 -1.891162\n",
      "4    -1.05 -1.040983\n"
     ]
    }
   ],
   "source": [
    "df = pd.read_excel('./data/data.xlsx')\n",
    "print(df.head())"
   ]
  },
  {
   "cell_type": "code",
   "execution_count": null,
   "metadata": {},
   "outputs": [],
   "source": []
  }
 ],
 "metadata": {
  "kernelspec": {
   "display_name": "Python 3",
   "language": "python",
   "name": "python3"
  },
  "language_info": {
   "codemirror_mode": {
    "name": "ipython",
    "version": 3
   },
   "file_extension": ".py",
   "mimetype": "text/x-python",
   "name": "python",
   "nbconvert_exporter": "python",
   "pygments_lexer": "ipython3",
   "version": "3.6.5"
  }
 },
 "nbformat": 4,
 "nbformat_minor": 2
}
