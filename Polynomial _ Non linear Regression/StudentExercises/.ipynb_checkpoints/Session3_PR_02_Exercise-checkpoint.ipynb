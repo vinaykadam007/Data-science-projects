{
 "cells": [
  {
   "cell_type": "markdown",
   "metadata": {},
   "source": [
    "# Exercise - Polynomial(Non linear) Regression with Time vs Speed \n",
    "\n",
    "The dataset is a plot of time vs speed for a distance D(which is constant). The output is non linear in nature. We have to predict current based on voltage with non linear regression. \n",
    "\n",
    "### Perform the following operations:\n",
    "\n",
    "1. Plot the time vs speed. What degree of polynomial do you think is this?\n",
    "2. Split the data into training & testing. It should be a 75:25 split with random_state 5. Obtain polynomial features for training and testing dataset with degree 3. \n",
    "3. Perform linear regression on the transformed training dataset. Plot the polynomial curve obtained along with training data set. Does it underfit, properly fit or overfit?\n",
    "4. Predict the output for test dataset, and plot a scatter of test output vs obtained output. Obtain MSE and R^2 score. \n",
    "\n",
    "### Vary the degree from 3 to 7. For which values of degree does the data start to overfit? Plot the training dataset and obtained curve for each degree and justify.\n",
    "\n",
    "### Out of degrees chosen above, which gives the best predictions? (Choose on the basis of MSE, R^2 score and plot)\n",
    "\n",
    "### Perform KFold Cross validation with k=3 to 10 for degree 3, 4, 5.\n"
   ]
  },
  {
   "cell_type": "code",
   "execution_count": 1,
   "metadata": {},
   "outputs": [],
   "source": [
    "import pandas as pd\n",
    "from sklearn.preprocessing import PolynomialFeatures\n",
    "from sklearn.model_selection import train_test_split\n",
    "from sklearn.linear_model import LinearRegression\n",
    "import seaborn as sb\n",
    "import numpy as np\n",
    "import matplotlib.pyplot as plt"
   ]
  },
  {
   "cell_type": "code",
   "execution_count": 2,
   "metadata": {},
   "outputs": [
    {
     "name": "stdout",
     "output_type": "stream",
     "text": [
      "   time      speed\n",
      "0   1.0  60.662926\n",
      "1   1.5  32.280792\n",
      "2   2.0  57.397340\n",
      "3   2.5  43.504416\n",
      "4   3.0  14.868792\n"
     ]
    }
   ],
   "source": [
    "df = pd.read_excel('./data/time_speed.xlsx')\n",
    "print(df.head())"
   ]
  },
  {
   "cell_type": "code",
   "execution_count": null,
   "metadata": {},
   "outputs": [],
   "source": []
  }
 ],
 "metadata": {
  "kernelspec": {
   "display_name": "Python 3",
   "language": "python",
   "name": "python3"
  },
  "language_info": {
   "codemirror_mode": {
    "name": "ipython",
    "version": 3
   },
   "file_extension": ".py",
   "mimetype": "text/x-python",
   "name": "python",
   "nbconvert_exporter": "python",
   "pygments_lexer": "ipython3",
   "version": "3.6.5"
  }
 },
 "nbformat": 4,
 "nbformat_minor": 2
}
