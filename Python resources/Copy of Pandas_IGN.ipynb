{
 "cells": [
  {
   "cell_type": "code",
   "execution_count": 2,
   "metadata": {},
   "outputs": [],
   "source": [
    "import pandas as pd\n",
    "import matplotlib.pyplot as plt"
   ]
  },
  {
   "cell_type": "code",
   "execution_count": 3,
   "metadata": {},
   "outputs": [
    {
     "name": "stdout",
     "output_type": "stream",
     "text": [
      "(18625, 10)\n",
      "  score_phrase                                              title  \\\n",
      "0      Amazing                            LittleBigPlanet PS Vita   \n",
      "1      Amazing  LittleBigPlanet PS Vita -- Marvel Super Hero E...   \n",
      "2        Great                               Splice: Tree of Life   \n",
      "3        Great                                             NHL 13   \n",
      "4        Great                                             NHL 13   \n",
      "\n",
      "                                                 url          platform  score  \\\n",
      "0             /games/littlebigplanet-vita/vita-98907  PlayStation Vita    9.0   \n",
      "1  /games/littlebigplanet-ps-vita-marvel-super-he...  PlayStation Vita    9.0   \n",
      "2                          /games/splice/ipad-141070              iPad    8.5   \n",
      "3                      /games/nhl-13/xbox-360-128182          Xbox 360    8.5   \n",
      "4                           /games/nhl-13/ps3-128181     PlayStation 3    8.5   \n",
      "\n",
      "        genre editors_choice  release_year  release_month  release_day  \n",
      "0  Platformer              Y          2012              9           12  \n",
      "1  Platformer              Y          2012              9           12  \n",
      "2      Puzzle              N          2012              9           12  \n",
      "3      Sports              N          2012              9           11  \n",
      "4      Sports              N          2012              9           11  \n",
      "******************************\n",
      "Printing the 10th row\n",
      " Tekken Tag Tournament 2\n",
      "******************************\n",
      "Printing only a score column\n",
      "       score score_phrase\n",
      "0        9.0      Amazing\n",
      "1        9.0      Amazing\n",
      "2        8.5        Great\n",
      "3        8.5        Great\n",
      "4        8.5        Great\n",
      "5        7.0         Good\n",
      "6        3.0        Awful\n",
      "7        9.0      Amazing\n",
      "8        3.0        Awful\n",
      "9        7.0         Good\n",
      "10       7.5         Good\n",
      "11       7.5         Good\n",
      "12       7.0         Good\n",
      "13       9.0      Amazing\n",
      "14       9.0      Amazing\n",
      "15       6.5         Okay\n",
      "16       6.5         Okay\n",
      "17       8.0        Great\n",
      "18       5.5     Mediocre\n",
      "19       7.0         Good\n",
      "20       7.0         Good\n",
      "21       7.5         Good\n",
      "22       7.5         Good\n",
      "23       7.5         Good\n",
      "24       9.0      Amazing\n",
      "25       7.0         Good\n",
      "26       9.0      Amazing\n",
      "27       7.5         Good\n",
      "28       8.0        Great\n",
      "29       6.5         Okay\n",
      "...      ...          ...\n",
      "18595    4.4          Bad\n",
      "18596    6.5         Okay\n",
      "18597    4.9          Bad\n",
      "18598    6.8         Okay\n",
      "18599    7.0         Good\n",
      "18600    7.4         Good\n",
      "18601    7.4         Good\n",
      "18602    7.4         Good\n",
      "18603    7.8         Good\n",
      "18604    8.6        Great\n",
      "18605    6.0         Okay\n",
      "18606    6.4         Okay\n",
      "18607    7.0         Good\n",
      "18608    5.4     Mediocre\n",
      "18609    8.0        Great\n",
      "18610    6.0         Okay\n",
      "18611    5.8     Mediocre\n",
      "18612    7.8         Good\n",
      "18613    8.0        Great\n",
      "18614    9.2      Amazing\n",
      "18615    9.2      Amazing\n",
      "18616    7.5         Good\n",
      "18617    8.4        Great\n",
      "18618    9.1      Amazing\n",
      "18619    7.9         Good\n",
      "18620    7.6         Good\n",
      "18621    9.0      Amazing\n",
      "18622    5.8     Mediocre\n",
      "18623   10.0  Masterpiece\n",
      "18624   10.0  Masterpiece\n",
      "\n",
      "[18625 rows x 2 columns]\n"
     ]
    }
   ],
   "source": [
    "#read csv\n",
    "df = pd.read_csv(\"ign.csv\", usecols=['score_phrase', \"title\", \"url\", \"platform\", \"score\", \"genre\", \"editors_choice\", \"release_year\", \"release_month\", \"release_day\"])\n",
    "\n",
    "#print out first 5 rows\n",
    "#print(df.head())\n",
    "\n",
    "#\n",
    "print(df.shape)\n",
    "print(df.iloc[:5, :]) #first 5 rows and all columns\n",
    "print(\"*\"*30)\n",
    "print(\"Printing the 10th row\\n\", df.iloc[10, 1]) #11th row and 1st column\n",
    "print(\"*\"*30)\n",
    "print(\"Printing only a score column\")\n",
    "print(df[[\"score\", \"score_phrase\"]]) #beware of brackets!"
   ]
  },
  {
   "cell_type": "code",
   "execution_count": 4,
   "metadata": {},
   "outputs": [
    {
     "name": "stdout",
     "output_type": "stream",
     "text": [
      "6.950459060402685\n",
      "0        510.500\n",
      "1        510.500\n",
      "2        510.375\n",
      "3        510.125\n",
      "4        510.125\n",
      "5        509.750\n",
      "6        508.750\n",
      "7        510.250\n",
      "8        508.750\n",
      "9        509.750\n",
      "10       509.875\n",
      "11       509.875\n",
      "12       509.500\n",
      "13       509.250\n",
      "14       509.250\n",
      "15       508.375\n",
      "16       508.375\n",
      "17       508.500\n",
      "18       507.375\n",
      "19       507.750\n",
      "20       507.750\n",
      "21       514.625\n",
      "22       514.625\n",
      "23       514.625\n",
      "24       515.000\n",
      "25       514.250\n",
      "26       514.750\n",
      "27       514.125\n",
      "28       514.250\n",
      "29       513.625\n",
      "          ...   \n",
      "18595    510.850\n",
      "18596    510.875\n",
      "18597    510.225\n",
      "18598    510.700\n",
      "18599    510.750\n",
      "18600    512.600\n",
      "18601    512.600\n",
      "18602    512.600\n",
      "18603    512.450\n",
      "18604    512.400\n",
      "18605    511.500\n",
      "18606    508.600\n",
      "18607    510.750\n",
      "18608    510.350\n",
      "18609    510.750\n",
      "18610    510.250\n",
      "18611    508.700\n",
      "18612    509.200\n",
      "18613    508.000\n",
      "18614    515.050\n",
      "18615    515.050\n",
      "18616    508.375\n",
      "18617    508.600\n",
      "18618    515.025\n",
      "18619    514.725\n",
      "18620    514.650\n",
      "18621    515.000\n",
      "18622    513.950\n",
      "18623    515.000\n",
      "18624    515.000\n",
      "Length: 18625, dtype: float64\n"
     ]
    }
   ],
   "source": [
    "print(df[\"score\"].mean())\n",
    "print(df.mean(axis=1))  #average of all numerical values in a single row"
   ]
  },
  {
   "cell_type": "code",
   "execution_count": 5,
   "metadata": {},
   "outputs": [
    {
     "name": "stdout",
     "output_type": "stream",
     "text": [
      "                  score  release_year  release_month  release_day\n",
      "score          1.000000      0.062716       0.007632     0.020079\n",
      "release_year   0.062716      1.000000      -0.115515     0.016867\n",
      "release_month  0.007632     -0.115515       1.000000    -0.067964\n",
      "release_day    0.020079      0.016867      -0.067964     1.000000\n",
      "\n",
      "what is correlation of score with other variables?\n",
      "score            1.000000\n",
      "release_year     0.062716\n",
      "release_month    0.007632\n",
      "release_day      0.020079\n",
      "Name: score, dtype: float64\n",
      "0.06271623791450748\n"
     ]
    }
   ],
   "source": [
    "print(df.corr()) #correlation between numerical values of each row in a matrix form\n",
    "\n",
    "print()\n",
    "print('what is correlation of score with other variables?')\n",
    "print(df.corr()['score'])\n",
    "print(df.corr()['score'][1])"
   ]
  },
  {
   "cell_type": "code",
   "execution_count": 6,
   "metadata": {},
   "outputs": [
    {
     "name": "stdout",
     "output_type": "stream",
     "text": [
      "  score_phrase                                              title  \\\n",
      "0      Amazing                            LittleBigPlanet PS Vita   \n",
      "1      Amazing  LittleBigPlanet PS Vita -- Marvel Super Hero E...   \n",
      "2        Great                               Splice: Tree of Life   \n",
      "3        Great                                             NHL 13   \n",
      "4        Great                                             NHL 13   \n",
      "\n",
      "                                                 url          platform  score  \\\n",
      "0             /games/littlebigplanet-vita/vita-98907  PlayStation Vita    9.0   \n",
      "1  /games/littlebigplanet-ps-vita-marvel-super-he...  PlayStation Vita    9.0   \n",
      "2                          /games/splice/ipad-141070              iPad    8.5   \n",
      "3                      /games/nhl-13/xbox-360-128182          Xbox 360    8.5   \n",
      "4                           /games/nhl-13/ps3-128181     PlayStation 3    8.5   \n",
      "\n",
      "        genre editors_choice  release_year  release_month  release_day  \n",
      "0  Platformer              Y          2012              9           12  \n",
      "1  Platformer              Y          2012              9           12  \n",
      "2      Puzzle              N          2012              9           12  \n",
      "3      Sports              N          2012              9           11  \n",
      "4      Sports              N          2012              9           11  \n"
     ]
    }
   ],
   "source": [
    "scores_greater_than_7 = df['score'] > 7 #can be multiple too!\n",
    "\n",
    "#print first 5 rows of filtered score\n",
    "print(df[scores_greater_than_7].head()) "
   ]
  },
  {
   "cell_type": "code",
   "execution_count": 21,
   "metadata": {},
   "outputs": [
    {
     "data": {
      "image/png": "[encoded data removed]",
      "text/plain": [
       "<Figure size 432x288 with 1 Axes>"
      ]
     },
     "metadata": {},
     "output_type": "display_data"
    },
    {
     "data": {
      "image/png": "[encoded data removed]",
      "text/plain": [
       "<Figure size 432x288 with 1 Axes>"
      ]
     },
     "metadata": {},
     "output_type": "display_data"
    }
   ],
   "source": [
    "plt.figure()\n",
    "plt.plot(df['release_year'])\n",
    "plt.figure()\n",
    "plt.plot(df['score'])\n",
    "\n",
    "#get grids\n",
    "ax = plt.gca()\n",
    "ax.grid(True)"
   ]
  },
  {
   "cell_type": "markdown",
   "metadata": {},
   "source": [
    "# Exercises"
   ]
  },
  {
   "cell_type": "code",
   "execution_count": null,
   "metadata": {},
   "outputs": [],
   "source": [
    "#exercises\n",
    "#1. plot the scores of each score phrase and see trend on the same plot\n",
    "#2. filter out all the games with release year xxxx and view the score of each on the plot\n",
    "#3. filter out all the games with score > 8 and find correlation between year and score\n",
    "#4. find out all games on the platform xxxx, compare their year and score, which one fares best?\n",
    "#5. Which is the most versatile game(can be played on xbox, ps, etc) from this data?\n",
    "#6. Which genre has the best score? (plot this too)\n",
    "#7. Which year saw the best games released? (i.e score was good) (plot this too)\n",
    "#8. How many games were such that they were not the editors choice yet they had a score of 8 and above?\n",
    "#9. Which month had the most successful releases? (plot and show comparison, deduce result)\n",
    "#10. ***Tricky How would you classify a game as 'Painful', 'Okay', 'Unbearable', 'Masterpiece', 'Good', 'Mediocre', 'Disaster', 'Amazing', 'Bad', 'Awful', 'Great' based on its score?\n",
    "#11. Find the mean, and standard deviation of the score dataset, and find outliers\n",
    "\n",
    "#unique phrases used\n",
    "print(set(df['score_phrase']))"
   ]
  }
 ],
 "metadata": {
  "kernelspec": {
   "display_name": "Python 3",
   "language": "python",
   "name": "python3"
  },
  "language_info": {
   "codemirror_mode": {
    "name": "ipython",
    "version": 3
   },
   "file_extension": ".py",
   "mimetype": "text/x-python",
   "name": "python",
   "nbconvert_exporter": "python",
   "pygments_lexer": "ipython3",
   "version": "3.6.4"
  }
 },
 "nbformat": 4,
 "nbformat_minor": 2
}
