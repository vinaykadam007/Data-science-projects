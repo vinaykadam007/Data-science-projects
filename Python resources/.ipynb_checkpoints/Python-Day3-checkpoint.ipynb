{
 "cells": [
  {
   "cell_type": "markdown",
   "metadata": {},
   "source": [
    "## List Comprehension\n",
    "\n",
    "List comprehension and generator comprehension"
   ]
  },
  {
   "cell_type": "code",
   "execution_count": 6,
   "metadata": {},
   "outputs": [
    {
     "name": "stdout",
     "output_type": "stream",
     "text": [
      "[0, 1, 4, 9, 16, 25, 36, 49, 64, 81]\n",
      "[0, 1, 4, 9, 16, 25, 36, 49, 64, 81]\n",
      "[0, 1, 4, 9, 16, 25, 36, 49, 64, 81]\n"
     ]
    }
   ],
   "source": [
    "#function way\n",
    "squares = []\n",
    "for x in range(10):\n",
    "    squares.append(x**2)\n",
    "print(squares) \n",
    "\n",
    "#using lambda and map\n",
    "squares = list(map(lambda x: x**2, range(10)))\n",
    "print(squares) \n",
    "\n",
    "squares = [x**2 for x in range(10)]\n",
    "print(squares)"
   ]
  },
  {
   "cell_type": "code",
   "execution_count": 7,
   "metadata": {},
   "outputs": [
    {
     "name": "stdout",
     "output_type": "stream",
     "text": [
      "[(1, 3), (1, 4), (2, 3), (2, 1), (2, 4), (3, 1), (3, 4)]\n"
     ]
    }
   ],
   "source": [
    "uniqueList = [(x, y) for x in [1,2,3] for y in [3,1,4] if x != y]\n",
    "print(uniqueList)"
   ]
  },
  {
   "cell_type": "code",
   "execution_count": 1,
   "metadata": {},
   "outputs": [
    {
     "name": "stdout",
     "output_type": "stream",
     "text": [
      "[0, 2, 4, 6, 8, 10]\n"
     ]
    }
   ],
   "source": [
    "evenList = [x for x in range(0,11) if x%2==0]\n",
    "print(evenList)"
   ]
  },
  {
   "cell_type": "markdown",
   "metadata": {},
   "source": [
    "## Anonymous Functions - Lambda Map"
   ]
  },
  {
   "cell_type": "code",
   "execution_count": 8,
   "metadata": {},
   "outputs": [
    {
     "data": {
      "text/plain": [
       "16"
      ]
     },
     "execution_count": 8,
     "metadata": {},
     "output_type": "execute_result"
    }
   ],
   "source": [
    "sumVal = lambda x, y : x + y\n",
    "sumVal(3,4)\n",
    "\n",
    "square = lambda x : x**2\n",
    "square(4)"
   ]
  },
  {
   "cell_type": "code",
   "execution_count": 15,
   "metadata": {},
   "outputs": [
    {
     "name": "stdout",
     "output_type": "stream",
     "text": [
      "[1, 4, 9, 16, 25]\n"
     ]
    }
   ],
   "source": [
    "squareVal = list(map(lambda x: x**2,[1,2,3,4,5]))\n",
    "print(squareVal)"
   ]
  },
  {
   "cell_type": "markdown",
   "metadata": {},
   "source": [
    "## File I/O\n",
    "\n",
    "-Open a file for reading"
   ]
  },
  {
   "cell_type": "code",
   "execution_count": 20,
   "metadata": {},
   "outputs": [
    {
     "name": "stdout",
     "output_type": "stream",
     "text": [
      "example.txt\n",
      "example.txt\n",
      "example.txt\n",
      "example1.txt\n"
     ]
    }
   ],
   "source": [
    "fo = open(\"example.txt\",\"r\")\n",
    "print(fo.name)\n",
    "fo.close()\n",
    "\n",
    "#if file not there gives error\n",
    "fo = open(\"example1.txt\",\"r\")\n",
    "print(fo.name)\n",
    "fo.close()\n",
    "\n",
    "fo = open(\"example.txt\",\"w\")\n",
    "print(fo.name)\n",
    "fo.close()\n",
    "\n",
    "#if not there creates file\n",
    "fo = open(\"example1.txt\",\"w\")\n",
    "print(fo.name)\n",
    "fo.close()"
   ]
  },
  {
   "cell_type": "markdown",
   "metadata": {},
   "source": [
    "-file access modes\n",
    "\n",
    "<img src=\"modes.png\">"
   ]
  },
  {
   "cell_type": "markdown",
   "metadata": {},
   "source": [
    "-write to a file"
   ]
  },
  {
   "cell_type": "code",
   "execution_count": 28,
   "metadata": {},
   "outputs": [],
   "source": [
    "fo = open(\"example.txt\",\"w\")\n",
    "fo.write(\"My first sentence\")\n",
    "fo.close()"
   ]
  },
  {
   "cell_type": "markdown",
   "metadata": {},
   "source": [
    "-read from a file"
   ]
  },
  {
   "cell_type": "code",
   "execution_count": 33,
   "metadata": {},
   "outputs": [
    {
     "name": "stdout",
     "output_type": "stream",
     "text": [
      "My first sentence\n",
      "My fi\n"
     ]
    }
   ],
   "source": [
    "fo = open(\"example.txt\",\"r\")\n",
    "str1 = fo.read()\n",
    "print(str1)\n",
    "fo.close()\n",
    "\n",
    "fo = open(\"example.txt\",\"r\")\n",
    "str1 = fo.read(5)\n",
    "print(str1)\n",
    "fo.close()"
   ]
  },
  {
   "cell_type": "markdown",
   "metadata": {},
   "source": [
    "-append"
   ]
  },
  {
   "cell_type": "code",
   "execution_count": 34,
   "metadata": {},
   "outputs": [],
   "source": [
    "fo = open(\"example.txt\",\"a\")\n",
    "fo.write(\"Second sentence\")\n",
    "fo.close()"
   ]
  },
  {
   "cell_type": "markdown",
   "metadata": {},
   "source": [
    "## Exception Handling"
   ]
  },
  {
   "cell_type": "code",
   "execution_count": null,
   "metadata": {},
   "outputs": [],
   "source": [
    "try:\n",
    "   #write your code whatever you want to do\n",
    "except <Exception>:#put the possible exception here\n",
    "    print (\"Some Error\")\n",
    "except <Exception>:#put another possible exception here\n",
    "    print (\"Another Error\")\n",
    "else:\n",
    "    print (\"All went well\")"
   ]
  },
  {
   "cell_type": "markdown",
   "metadata": {},
   "source": [
    "### IOError\n",
    "Raised when an input/ output operation fails, such as the print statement or the open() function when trying to open a file that does not exist."
   ]
  },
  {
   "cell_type": "code",
   "execution_count": 35,
   "metadata": {},
   "outputs": [
    {
     "name": "stdout",
     "output_type": "stream",
     "text": [
      "Error: can't find file or read data\n"
     ]
    }
   ],
   "source": [
    "try:\n",
    "   fh = open(\"testfile\", \"r\")\n",
    "   fh.write(\"This is my test file for exception handling!!\")\n",
    "except IOError:\n",
    "   print (\"Error: can\\'t find file or read data\")\n",
    "else:\n",
    "   print (\"Written content in the file successfully\")"
   ]
  },
  {
   "cell_type": "markdown",
   "metadata": {},
   "source": [
    "### KeyError\n",
    "Raised when the specified key is not found in the dictionary."
   ]
  },
  {
   "cell_type": "code",
   "execution_count": 38,
   "metadata": {},
   "outputs": [
    {
     "name": "stdout",
     "output_type": "stream",
     "text": [
      "This object not present. Key could be wrong\n"
     ]
    }
   ],
   "source": [
    "#ioerror\n",
    "dict1 = {\"jan\":31, \"march\":31, \"april\":30}\n",
    "try:\n",
    "    print (dict1[\"feb\"])\n",
    "except KeyError:\n",
    "    print (\"This object not present. Key could be wrong\")\n",
    "else:\n",
    "    print (\"All went well. Object was found\")"
   ]
  },
  {
   "cell_type": "markdown",
   "metadata": {},
   "source": [
    "### ValueError\n",
    "Raised when the built-in function for a data type has the valid type of arguments, but the arguments have invalid values specified."
   ]
  },
  {
   "cell_type": "code",
   "execution_count": 40,
   "metadata": {},
   "outputs": [
    {
     "name": "stdout",
     "output_type": "stream",
     "text": [
      "Stuff inside brackets cannot be converted into int\n"
     ]
    }
   ],
   "source": [
    "try:\n",
    "    int(\"dog\")\n",
    "except ValueError:\n",
    "    print(\"Stuff inside brackets cannot be converted into int\")\n",
    "else: \n",
    "    print(\"All went well. Conversion was successful\")"
   ]
  },
  {
   "cell_type": "markdown",
   "metadata": {},
   "source": [
    "### TypeError\n",
    "Raised when an operation or function is attempted that is invalid for the specified data type."
   ]
  },
  {
   "cell_type": "code",
   "execution_count": 55,
   "metadata": {},
   "outputs": [
    {
     "name": "stdout",
     "output_type": "stream",
     "text": [
      "Error\n"
     ]
    }
   ],
   "source": [
    "try:\n",
    "    print(\"3\"+3)\n",
    "except TypeError:\n",
    "    print(\"Error\")\n",
    "else:\n",
    "    print(\"No Error\")"
   ]
  },
  {
   "cell_type": "markdown",
   "metadata": {},
   "source": [
    "### ZeroDivisonError\n",
    "Raised when division or modulo by zero takes place for all numeric types."
   ]
  },
  {
   "cell_type": "code",
   "execution_count": 60,
   "metadata": {
    "scrolled": true
   },
   "outputs": [
    {
     "name": "stdout",
     "output_type": "stream",
     "text": [
      "Error\n"
     ]
    }
   ],
   "source": [
    "try:\n",
    "    val = 4/0\n",
    "except ZeroDivisionError:\n",
    "    print(\"Error\")\n",
    "else:\n",
    "    print(\"No Error\")"
   ]
  },
  {
   "cell_type": "markdown",
   "metadata": {},
   "source": [
    "### ArithmeticError\n",
    "The base class for those built-in exceptions that are raised for various arithmetic errors: OverflowError, ZeroDivisionError, FloatingPointError."
   ]
  },
  {
   "cell_type": "markdown",
   "metadata": {},
   "source": [
    "### IndexError"
   ]
  },
  {
   "cell_type": "code",
   "execution_count": 61,
   "metadata": {},
   "outputs": [
    {
     "name": "stdout",
     "output_type": "stream",
     "text": [
      "Error Caught\n"
     ]
    }
   ],
   "source": [
    "try:\n",
    "    list1 = [1,2,3,4,5]\n",
    "    print(list1[5])\n",
    "except IndexError:\n",
    "    print(\"Error Caught\")\n",
    "else:\n",
    "    print(\"No error at all\")"
   ]
  },
  {
   "cell_type": "code",
   "execution_count": null,
   "metadata": {},
   "outputs": [],
   "source": []
  }
 ],
 "metadata": {
  "kernelspec": {
   "display_name": "Python 3",
   "language": "python",
   "name": "python3"
  },
  "language_info": {
   "codemirror_mode": {
    "name": "ipython",
    "version": 3
   },
   "file_extension": ".py",
   "mimetype": "text/x-python",
   "name": "python",
   "nbconvert_exporter": "python",
   "pygments_lexer": "ipython3",
   "version": "3.6.5"
  }
 },
 "nbformat": 4,
 "nbformat_minor": 2
}
