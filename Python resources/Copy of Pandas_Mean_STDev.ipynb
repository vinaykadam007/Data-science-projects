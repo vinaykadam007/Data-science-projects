{
 "cells": [
  {
   "cell_type": "code",
   "execution_count": 2,
   "metadata": {},
   "outputs": [],
   "source": [
    "import pandas as pd\n",
    "import sys"
   ]
  },
  {
   "cell_type": "code",
   "execution_count": 12,
   "metadata": {},
   "outputs": [
    {
     "name": "stdout",
     "output_type": "stream",
     "text": [
      "DatetimeIndex(['2012-01-31', '2012-02-29', '2012-03-31', '2012-04-30',\n",
      "               '2012-05-31', '2012-06-30', '2012-07-31', '2012-08-31',\n",
      "               '2012-09-30', '2012-10-31'],\n",
      "              dtype='datetime64[ns]', freq='M')\n"
     ]
    }
   ],
   "source": [
    "# Create a dataframe with dates as your index\n",
    "States = ['NY', 'NY', 'NY', 'NY', 'FL', 'FL', 'GA', 'GA', 'FL', 'FL'] \n",
    "data = [1.0, 2, 3, 4, 5, 6, 7, 8, 9, 10]\n",
    "\n",
    "#create a date range ranging from 1/1/2012 to 10/1/2012\n",
    "#M is month, #D is date \n",
    "idx = pd.date_range('1/1/2012', periods=10, freq='M')\n",
    "print(idx)"
   ]
  },
  {
   "cell_type": "code",
   "execution_count": 14,
   "metadata": {},
   "outputs": [
    {
     "name": "stdout",
     "output_type": "stream",
     "text": [
      "            Revenue\n",
      "2012-01-31      1.0\n",
      "2012-02-29      2.0\n",
      "2012-03-31      3.0\n",
      "2012-04-30      4.0\n",
      "2012-05-31      5.0\n",
      "2012-06-30      6.0\n",
      "2012-07-31      7.0\n",
      "2012-08-31      8.0\n",
      "2012-09-30      9.0\n",
      "2012-10-31     10.0\n"
     ]
    }
   ],
   "source": [
    "#create a df with data and index as dates \n",
    "df1 = pd.DataFrame(data, index=idx, columns=['Revenue'])\n",
    "print(df1)"
   ]
  },
  {
   "cell_type": "code",
   "execution_count": 15,
   "metadata": {},
   "outputs": [
    {
     "name": "stdout",
     "output_type": "stream",
     "text": [
      "            Revenue State\n",
      "2012-01-31      1.0    NY\n",
      "2012-02-29      2.0    NY\n",
      "2012-03-31      3.0    NY\n",
      "2012-04-30      4.0    NY\n",
      "2012-05-31      5.0    FL\n",
      "2012-06-30      6.0    FL\n",
      "2012-07-31      7.0    GA\n",
      "2012-08-31      8.0    GA\n",
      "2012-09-30      9.0    FL\n",
      "2012-10-31     10.0    FL\n"
     ]
    }
   ],
   "source": [
    "#create a new column with states\n",
    "df1['State'] = States\n",
    "print(df1)"
   ]
  },
  {
   "cell_type": "code",
   "execution_count": 17,
   "metadata": {},
   "outputs": [
    {
     "name": "stdout",
     "output_type": "stream",
     "text": [
      "            Revenue State\n",
      "2013-01-31     10.0    NY\n",
      "2013-02-28     10.0    NY\n",
      "2013-03-31      9.0    NY\n",
      "2013-04-30      9.0    NY\n",
      "2013-05-31      8.0    FL\n",
      "2013-06-30      8.0    FL\n",
      "2013-07-31      7.0    GA\n",
      "2013-08-31      7.0    GA\n",
      "2013-09-30      6.0    FL\n",
      "2013-10-31      6.0    FL\n"
     ]
    }
   ],
   "source": [
    "# Create a second dataframe\n",
    "data2 = [10.0, 10.0, 9, 9, 8, 8, 7, 7, 6, 6]\n",
    "idx2 = pd.date_range('1/1/2013', periods=10, freq='M')\n",
    "df2 = pd.DataFrame(data2, index=idx2, columns=['Revenue'])\n",
    "df2['State'] = States\n",
    "print(df2)"
   ]
  },
  {
   "cell_type": "code",
   "execution_count": 18,
   "metadata": {},
   "outputs": [
    {
     "name": "stdout",
     "output_type": "stream",
     "text": [
      "            Revenue State\n",
      "2012-01-31      1.0    NY\n",
      "2012-02-29      2.0    NY\n",
      "2012-03-31      3.0    NY\n",
      "2012-04-30      4.0    NY\n",
      "2012-05-31      5.0    FL\n",
      "2012-06-30      6.0    FL\n",
      "2012-07-31      7.0    GA\n",
      "2012-08-31      8.0    GA\n",
      "2012-09-30      9.0    FL\n",
      "2012-10-31     10.0    FL\n",
      "2013-01-31     10.0    NY\n",
      "2013-02-28     10.0    NY\n",
      "2013-03-31      9.0    NY\n",
      "2013-04-30      9.0    NY\n",
      "2013-05-31      8.0    FL\n",
      "2013-06-30      8.0    FL\n",
      "2013-07-31      7.0    GA\n",
      "2013-08-31      7.0    GA\n",
      "2013-09-30      6.0    FL\n",
      "2013-10-31      6.0    FL\n"
     ]
    }
   ],
   "source": [
    "# Combine dataframes\n",
    "df = pd.concat([df1,df2])\n",
    "print(df)"
   ]
  },
  {
   "cell_type": "markdown",
   "metadata": {},
   "source": [
    "# Ways to Calculate Outliers    \n",
    "\n",
    "Note: Average and Standard Deviation are only valid for gaussian distributions."
   ]
  },
  {
   "cell_type": "code",
   "execution_count": 25,
   "metadata": {},
   "outputs": [
    {
     "name": "stdout",
     "output_type": "stream",
     "text": [
      "            Revenue State  x-Mean       std   std_var  Outlier\n",
      "2012-01-31      1.0    NY    5.75  2.653201  2.167194     True\n",
      "2012-02-29      2.0    NY    4.75  2.653201  1.790291    False\n",
      "2012-03-31      3.0    NY    3.75  2.653201  1.413387    False\n",
      "2012-04-30      4.0    NY    2.75  2.653201  1.036484    False\n",
      "2012-05-31      5.0    FL    1.75  2.653201  0.659581    False\n",
      "2012-06-30      6.0    FL    0.75  2.653201  0.282677    False\n",
      "2012-07-31      7.0    GA    0.25  2.653201  0.094226    False\n",
      "2012-08-31      8.0    GA    1.25  2.653201  0.471129    False\n",
      "2012-09-30      9.0    FL    2.25  2.653201  0.848032    False\n",
      "2012-10-31     10.0    FL    3.25  2.653201  1.224936    False\n",
      "2013-01-31     10.0    NY    3.25  2.653201  1.224936    False\n",
      "2013-02-28     10.0    NY    3.25  2.653201  1.224936    False\n",
      "2013-03-31      9.0    NY    2.25  2.653201  0.848032    False\n",
      "2013-04-30      9.0    NY    2.25  2.653201  0.848032    False\n",
      "2013-05-31      8.0    FL    1.25  2.653201  0.471129    False\n",
      "2013-06-30      8.0    FL    1.25  2.653201  0.471129    False\n",
      "2013-07-31      7.0    GA    0.25  2.653201  0.094226    False\n",
      "2013-08-31      7.0    GA    0.25  2.653201  0.094226    False\n",
      "2013-09-30      6.0    FL    0.75  2.653201  0.282677    False\n",
      "2013-10-31      6.0    FL    0.75  2.653201  0.282677    False\n"
     ]
    }
   ],
   "source": [
    "# Method 1\n",
    "\n",
    "# make a copy of original df\n",
    "newdf = df.copy()\n",
    "\n",
    "#difference of mean from each point  (xi-xbar)\n",
    "newdf['x-Mean'] = abs(newdf['Revenue'] - newdf['Revenue'].mean())\n",
    "\n",
    "#find standard deviation, greater than 2 std devs \n",
    "newdf['std'] = newdf['Revenue'].std()\n",
    "newdf['std_var'] = newdf['x-Mean']/newdf['Revenue'].std()\n",
    "newdf['Outlier'] = newdf['std_var'] > 2\n",
    "print(newdf)\n"
   ]
  }
 ],
 "metadata": {
  "anaconda-cloud": {},
  "kernelspec": {
   "display_name": "Python 3",
   "language": "python",
   "name": "python3"
  },
  "language_info": {
   "codemirror_mode": {
    "name": "ipython",
    "version": 3
   },
   "file_extension": ".py",
   "mimetype": "text/x-python",
   "name": "python",
   "nbconvert_exporter": "python",
   "pygments_lexer": "ipython3",
   "version": "3.6.4"
  }
 },
 "nbformat": 4,
 "nbformat_minor": 1
}
