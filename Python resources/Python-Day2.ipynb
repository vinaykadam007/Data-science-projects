{
 "cells": [
  {
   "cell_type": "markdown",
   "metadata": {},
   "source": [
    "## Dictionaries\n",
    "Creating a dictionary, adding values to dictionary\n",
    "Updating a dictionary\n",
    "Properties - key unique, key immutable show with example\n",
    "Length and str function\n",
    "dict.keys and items functions, dict.has and get functions\n",
    "\n",
    "-Creating a dictionary\n",
    "-Access elements of a dictionary"
   ]
  },
  {
   "cell_type": "code",
   "execution_count": 5,
   "metadata": {},
   "outputs": [
    {
     "name": "stdout",
     "output_type": "stream",
     "text": [
      "{'march': 31, 'jan': 31, 'feb': 28}\n",
      "31\n",
      "31\n"
     ]
    },
    {
     "ename": "KeyError",
     "evalue": "'april'",
     "output_type": "error",
     "traceback": [
      "\u001b[0;31m---------------------------------------------------------------------------\u001b[0m",
      "\u001b[0;31mKeyError\u001b[0m                                  Traceback (most recent call last)",
      "\u001b[0;32m<ipython-input-5-5e2ff28c6395>\u001b[0m in \u001b[0;36m<module>\u001b[0;34m()\u001b[0m\n\u001b[1;32m      3\u001b[0m \u001b[0mprint\u001b[0m \u001b[0;34m(\u001b[0m\u001b[0mdictionary1\u001b[0m\u001b[0;34m[\u001b[0m\u001b[0;34m\"jan\"\u001b[0m\u001b[0;34m]\u001b[0m\u001b[0;34m)\u001b[0m\u001b[0;34m\u001b[0m\u001b[0m\n\u001b[1;32m      4\u001b[0m \u001b[0mprint\u001b[0m \u001b[0;34m(\u001b[0m\u001b[0mdictionary1\u001b[0m\u001b[0;34m[\u001b[0m\u001b[0;34m\"march\"\u001b[0m\u001b[0;34m]\u001b[0m\u001b[0;34m)\u001b[0m\u001b[0;34m\u001b[0m\u001b[0m\n\u001b[0;32m----> 5\u001b[0;31m \u001b[0mprint\u001b[0m \u001b[0;34m(\u001b[0m\u001b[0mdictionary1\u001b[0m\u001b[0;34m[\u001b[0m\u001b[0;34m\"april\"\u001b[0m\u001b[0;34m]\u001b[0m\u001b[0;34m)\u001b[0m\u001b[0;34m\u001b[0m\u001b[0m\n\u001b[0m",
      "\u001b[0;31mKeyError\u001b[0m: 'april'"
     ]
    }
   ],
   "source": [
    "dictionary1 = {\"jan\":31, \"feb\":28, \"march\":31}\n",
    "print (dictionary1)\n",
    "print (dictionary1[\"jan\"])\n",
    "print (dictionary1[\"march\"])\n",
    "print (dictionary1[\"april\"])\n"
   ]
  },
  {
   "cell_type": "markdown",
   "metadata": {},
   "source": [
    "-Update a dictionary\n",
    "-Dictionaries are unordered"
   ]
  },
  {
   "cell_type": "code",
   "execution_count": 8,
   "metadata": {},
   "outputs": [
    {
     "name": "stdout",
     "output_type": "stream",
     "text": [
      "{'april': 30, 'march': 31, 'jan': 31, 'feb': 28}\n",
      "{'april': 30, 'march': 31, 'jan': 25, 'feb': 28}\n"
     ]
    }
   ],
   "source": [
    "dictionary1 = {\"jan\":31, \"feb\":28, \"march\":31}\n",
    "dictionary1[\"april\"] = 30\n",
    "print (dictionary1)\n",
    "\n",
    "dictionary1[\"jan\"] = 25\n",
    "print (dictionary1)"
   ]
  },
  {
   "cell_type": "markdown",
   "metadata": {},
   "source": [
    "-Delete dictionary element"
   ]
  },
  {
   "cell_type": "code",
   "execution_count": 9,
   "metadata": {},
   "outputs": [
    {
     "name": "stdout",
     "output_type": "stream",
     "text": [
      "{'march': 31, 'jan': 31, 'feb': 28}\n"
     ]
    }
   ],
   "source": [
    "dictionary1 = {\"jan\":31, \"feb\":28, \"march\":31,\"april\":30}\n",
    "del dictionary1[\"april\"]\n",
    "print (dictionary1)"
   ]
  },
  {
   "cell_type": "markdown",
   "metadata": {},
   "source": [
    "-Properties - key unique, key immutable show with example\n"
   ]
  },
  {
   "cell_type": "code",
   "execution_count": 11,
   "metadata": {},
   "outputs": [
    {
     "name": "stdout",
     "output_type": "stream",
     "text": [
      "35\n"
     ]
    },
    {
     "ename": "TypeError",
     "evalue": "unhashable type: 'list'",
     "output_type": "error",
     "traceback": [
      "\u001b[0;31m---------------------------------------------------------------------------\u001b[0m",
      "\u001b[0;31mTypeError\u001b[0m                                 Traceback (most recent call last)",
      "\u001b[0;32m<ipython-input-11-75bbb9ac2757>\u001b[0m in \u001b[0;36m<module>\u001b[0;34m()\u001b[0m\n\u001b[1;32m      2\u001b[0m \u001b[0mprint\u001b[0m \u001b[0;34m(\u001b[0m\u001b[0mdictionary1\u001b[0m\u001b[0;34m[\u001b[0m\u001b[0;34m\"jan\"\u001b[0m\u001b[0;34m]\u001b[0m\u001b[0;34m)\u001b[0m\u001b[0;34m\u001b[0m\u001b[0m\n\u001b[1;32m      3\u001b[0m \u001b[0;34m\u001b[0m\u001b[0m\n\u001b[0;32m----> 4\u001b[0;31m \u001b[0mdictionary2\u001b[0m \u001b[0;34m=\u001b[0m \u001b[0;34m{\u001b[0m\u001b[0;34m[\u001b[0m\u001b[0;36m1\u001b[0m\u001b[0;34m,\u001b[0m\u001b[0;36m2\u001b[0m\u001b[0;34m,\u001b[0m\u001b[0;36m3\u001b[0m\u001b[0;34m]\u001b[0m\u001b[0;34m:\u001b[0m\u001b[0;36m45\u001b[0m\u001b[0;34m,\u001b[0m \u001b[0;34m\"jan\"\u001b[0m\u001b[0;34m:\u001b[0m\u001b[0;36m30\u001b[0m\u001b[0;34m}\u001b[0m\u001b[0;34m\u001b[0m\u001b[0m\n\u001b[0m",
      "\u001b[0;31mTypeError\u001b[0m: unhashable type: 'list'"
     ]
    }
   ],
   "source": [
    "dictionary1 = {\"jan\":31, \"feb\":28, \"march\":31, \"jan\":35}\n",
    "print (dictionary1[\"jan\"])\n",
    "\n",
    "dictionary2 = {[1,2,3]:45, \"jan\":30}"
   ]
  },
  {
   "cell_type": "markdown",
   "metadata": {},
   "source": [
    "-Dictionary functions"
   ]
  },
  {
   "cell_type": "code",
   "execution_count": 16,
   "metadata": {},
   "outputs": [
    {
     "name": "stdout",
     "output_type": "stream",
     "text": [
      "4\n",
      "{'april': 30, 'march': 31, 'jan': 31, 'feb': 28}\n",
      "<class 'str'>\n"
     ]
    }
   ],
   "source": [
    "dictionary1 = {\"jan\":31, \"feb\":28, \"march\":31,\"april\":30}\n",
    "print (len(dictionary1))\n",
    "\n",
    "print (str(dictionary1))\n",
    "print (type((str(dictionary1))))"
   ]
  },
  {
   "cell_type": "markdown",
   "metadata": {},
   "source": [
    "-dict.get(key, default=None)\n",
    "-dict.items()\n",
    "-dict.keys()"
   ]
  },
  {
   "cell_type": "code",
   "execution_count": 24,
   "metadata": {},
   "outputs": [
    {
     "name": "stdout",
     "output_type": "stream",
     "text": [
      "31\n",
      "31\n",
      "None\n",
      "45\n",
      "dict_items([('april', 30), ('march', 31), ('jan', 31), ('feb', 28)])\n",
      "dict_keys(['april', 'march', 'jan', 'feb'])\n"
     ]
    }
   ],
   "source": [
    "dictionary1 = {\"jan\":31, \"feb\":28, \"march\":31,\"april\":30}\n",
    "\n",
    "print (dictionary1.get(\"jan\",None))\n",
    "print (dictionary1.get(\"jan\",45))\n",
    "print (dictionary1.get(\"january\",None))\n",
    "print (dictionary1.get(\"january\",45))\n",
    "#prevent a key error \n",
    "\n",
    "print (dictionary1.items())\n",
    "\n",
    "print (dictionary1.keys())\n"
   ]
  },
  {
   "cell_type": "markdown",
   "metadata": {},
   "source": [
    "## Tuples\n",
    "\n",
    "just basic - creating a tuple, indexing, show can't change"
   ]
  },
  {
   "cell_type": "code",
   "execution_count": 26,
   "metadata": {},
   "outputs": [
    {
     "name": "stdout",
     "output_type": "stream",
     "text": [
      "(30, 50, 'jan', 'a', 45.5)\n",
      "30\n",
      "45.5\n",
      "(50, 'jan', 'a')\n",
      "(50, 'jan', 'a')\n",
      "(50, 'a')\n",
      "(45.5, 'a', 'jan', 50, 30)\n"
     ]
    }
   ],
   "source": [
    "tuple1 = (30, 50, \"jan\", 'a', 45.5)\n",
    "print (tuple1)\n",
    "\n",
    "print (tuple1[0])\n",
    "print (tuple1[-1])\n",
    "print (tuple1[1:4])\n",
    "print (tuple1[1:4:1])\n",
    "print (tuple1[1:4:2])\n",
    "\n",
    "print (tuple1[::-1])"
   ]
  },
  {
   "cell_type": "markdown",
   "metadata": {},
   "source": [
    "-A tuple is immutable - it cannot be altered"
   ]
  },
  {
   "cell_type": "code",
   "execution_count": 27,
   "metadata": {},
   "outputs": [
    {
     "ename": "TypeError",
     "evalue": "'tuple' object does not support item assignment",
     "output_type": "error",
     "traceback": [
      "\u001b[0;31m---------------------------------------------------------------------------\u001b[0m",
      "\u001b[0;31mTypeError\u001b[0m                                 Traceback (most recent call last)",
      "\u001b[0;32m<ipython-input-27-3909d54625bb>\u001b[0m in \u001b[0;36m<module>\u001b[0;34m()\u001b[0m\n\u001b[1;32m      1\u001b[0m \u001b[0mtuple1\u001b[0m \u001b[0;34m=\u001b[0m \u001b[0;34m(\u001b[0m\u001b[0;36m30\u001b[0m\u001b[0;34m,\u001b[0m \u001b[0;36m50\u001b[0m\u001b[0;34m,\u001b[0m \u001b[0;34m\"jan\"\u001b[0m\u001b[0;34m,\u001b[0m \u001b[0;34m'a'\u001b[0m\u001b[0;34m,\u001b[0m \u001b[0;36m45.5\u001b[0m\u001b[0;34m)\u001b[0m\u001b[0;34m\u001b[0m\u001b[0m\n\u001b[0;32m----> 2\u001b[0;31m \u001b[0mtuple1\u001b[0m\u001b[0;34m[\u001b[0m\u001b[0;36m1\u001b[0m\u001b[0;34m]\u001b[0m \u001b[0;34m=\u001b[0m \u001b[0;36m70\u001b[0m\u001b[0;34m\u001b[0m\u001b[0m\n\u001b[0m",
      "\u001b[0;31mTypeError\u001b[0m: 'tuple' object does not support item assignment"
     ]
    }
   ],
   "source": [
    "tuple1 = (30, 50, \"jan\", 'a', 45.5)\n",
    "tuple1[1] = 70"
   ]
  },
  {
   "cell_type": "markdown",
   "metadata": {},
   "source": [
    "## Loops\n",
    "\n",
    "for loop\n",
    "range function - range object - convert into list\n",
    "\n",
    "-range function"
   ]
  },
  {
   "cell_type": "code",
   "execution_count": 37,
   "metadata": {},
   "outputs": [
    {
     "name": "stdout",
     "output_type": "stream",
     "text": [
      "range(1, 10)\n"
     ]
    }
   ],
   "source": [
    "print (range(1,10))\n",
    "#returns an obejct not an iterable"
   ]
  },
  {
   "cell_type": "code",
   "execution_count": 39,
   "metadata": {},
   "outputs": [
    {
     "name": "stdout",
     "output_type": "stream",
     "text": [
      "[1, 2, 3, 4, 5, 6, 7, 8, 9]\n"
     ]
    }
   ],
   "source": [
    "print (list(range(1,10)))\n",
    "#range needs to be type-casted into list"
   ]
  },
  {
   "cell_type": "code",
   "execution_count": 41,
   "metadata": {},
   "outputs": [
    {
     "name": "stdout",
     "output_type": "stream",
     "text": [
      "[1, 2, 3, 4, 5, 6, 7, 8, 9]\n",
      "[1, 3, 5, 7, 9]\n"
     ]
    },
    {
     "ename": "TypeError",
     "evalue": "'float' object cannot be interpreted as an integer",
     "output_type": "error",
     "traceback": [
      "\u001b[0;31m---------------------------------------------------------------------------\u001b[0m",
      "\u001b[0;31mTypeError\u001b[0m                                 Traceback (most recent call last)",
      "\u001b[0;32m<ipython-input-41-62bec2a03ddf>\u001b[0m in \u001b[0;36m<module>\u001b[0;34m()\u001b[0m\n\u001b[1;32m      1\u001b[0m \u001b[0mprint\u001b[0m \u001b[0;34m(\u001b[0m\u001b[0mlist\u001b[0m\u001b[0;34m(\u001b[0m\u001b[0mrange\u001b[0m\u001b[0;34m(\u001b[0m\u001b[0;36m1\u001b[0m\u001b[0;34m,\u001b[0m\u001b[0;36m10\u001b[0m\u001b[0;34m,\u001b[0m\u001b[0;36m1\u001b[0m\u001b[0;34m)\u001b[0m\u001b[0;34m)\u001b[0m\u001b[0;34m)\u001b[0m\u001b[0;34m\u001b[0m\u001b[0m\n\u001b[1;32m      2\u001b[0m \u001b[0mprint\u001b[0m \u001b[0;34m(\u001b[0m\u001b[0mlist\u001b[0m\u001b[0;34m(\u001b[0m\u001b[0mrange\u001b[0m\u001b[0;34m(\u001b[0m\u001b[0;36m1\u001b[0m\u001b[0;34m,\u001b[0m\u001b[0;36m10\u001b[0m\u001b[0;34m,\u001b[0m\u001b[0;36m2\u001b[0m\u001b[0;34m)\u001b[0m\u001b[0;34m)\u001b[0m\u001b[0;34m)\u001b[0m\u001b[0;34m\u001b[0m\u001b[0m\n\u001b[0;32m----> 3\u001b[0;31m \u001b[0mprint\u001b[0m \u001b[0;34m(\u001b[0m\u001b[0mlist\u001b[0m\u001b[0;34m(\u001b[0m\u001b[0mrange\u001b[0m\u001b[0;34m(\u001b[0m\u001b[0;36m1\u001b[0m\u001b[0;34m,\u001b[0m\u001b[0;36m10\u001b[0m\u001b[0;34m,\u001b[0m\u001b[0;36m2.5\u001b[0m\u001b[0;34m)\u001b[0m\u001b[0;34m)\u001b[0m\u001b[0;34m)\u001b[0m\u001b[0;34m\u001b[0m\u001b[0m\n\u001b[0m",
      "\u001b[0;31mTypeError\u001b[0m: 'float' object cannot be interpreted as an integer"
     ]
    }
   ],
   "source": [
    "print (list(range(1,10,1)))\n",
    "print (list(range(1,10,2)))\n",
    "print (list(range(1,10,2.5)))"
   ]
  },
  {
   "cell_type": "code",
   "execution_count": 44,
   "metadata": {},
   "outputs": [
    {
     "name": "stdout",
     "output_type": "stream",
     "text": [
      "1\n",
      "2\n",
      "3\n",
      "4\n",
      "5\n",
      "6\n",
      "7\n",
      "8\n",
      "9\n",
      "123456789"
     ]
    }
   ],
   "source": [
    "for everyItem in list(range(1,10)):\n",
    "    print(everyItem)\n",
    "\n",
    "#print on same line    \n",
    "for everyItem in list(range(1,10)):\n",
    "    print(everyItem , end=\"\")\n",
    "    "
   ]
  },
  {
   "cell_type": "code",
   "execution_count": 46,
   "metadata": {},
   "outputs": [
    {
     "name": "stdout",
     "output_type": "stream",
     "text": [
      "2\n",
      "4\n",
      "6\n",
      "8\n",
      "10\n"
     ]
    }
   ],
   "source": [
    "list1 = [1,2,3,4,5,6,7,8,9,10]\n",
    "for everyElement in list1:\n",
    "    if everyElement %2 == 0:\n",
    "        print(everyElement)\n",
    "        #print(everyElement, end=\"\")"
   ]
  },
  {
   "cell_type": "code",
   "execution_count": 47,
   "metadata": {},
   "outputs": [
    {
     "name": "stdout",
     "output_type": "stream",
     "text": [
      "jan\n",
      "34\n",
      "45.5\n",
      "hello\n",
      "a\n"
     ]
    }
   ],
   "source": [
    "list2 = [\"jan\", 34, 45.5, \"hello\", 'a']\n",
    "for everyElement in list2:\n",
    "    print(everyElement)"
   ]
  },
  {
   "cell_type": "markdown",
   "metadata": {},
   "source": [
    "## Functions\n",
    "creating a basic function\n",
    "sending parameters to function\n",
    "returning value from function\n",
    "setting default parameter in function\n",
    "local vs global variables\n",
    "*args **kwargs\n",
    "\n",
    "-creating a basic function"
   ]
  },
  {
   "cell_type": "code",
   "execution_count": 49,
   "metadata": {},
   "outputs": [
    {
     "name": "stdout",
     "output_type": "stream",
     "text": [
      "7\n"
     ]
    }
   ],
   "source": [
    "def addition():\n",
    "    print (3+4)\n",
    "    \n",
    "addition()    "
   ]
  },
  {
   "cell_type": "markdown",
   "metadata": {},
   "source": [
    "-passing parameters"
   ]
  },
  {
   "cell_type": "code",
   "execution_count": 50,
   "metadata": {},
   "outputs": [
    {
     "name": "stdout",
     "output_type": "stream",
     "text": [
      "7\n"
     ]
    }
   ],
   "source": [
    "def addition(a,b):\n",
    "    print(a+b)\n",
    "\n",
    "addition(3,4)    "
   ]
  },
  {
   "cell_type": "markdown",
   "metadata": {},
   "source": [
    "-the return statement"
   ]
  },
  {
   "cell_type": "code",
   "execution_count": 52,
   "metadata": {},
   "outputs": [
    {
     "name": "stdout",
     "output_type": "stream",
     "text": [
      "7\n"
     ]
    }
   ],
   "source": [
    "def addition(a,b):\n",
    "    return (a+b) \n",
    "\n",
    "sum = addition(3,4)\n",
    "print(sum)"
   ]
  },
  {
   "cell_type": "markdown",
   "metadata": {},
   "source": [
    "-dafault parameters"
   ]
  },
  {
   "cell_type": "code",
   "execution_count": 53,
   "metadata": {},
   "outputs": [
    {
     "name": "stdout",
     "output_type": "stream",
     "text": [
      "9\n"
     ]
    }
   ],
   "source": [
    "def addition(a,b=6):\n",
    "    return (a+b) \n",
    "\n",
    "sum = addition(3)\n",
    "print(sum)"
   ]
  },
  {
   "cell_type": "markdown",
   "metadata": {},
   "source": [
    "-local vs global"
   ]
  },
  {
   "cell_type": "code",
   "execution_count": 56,
   "metadata": {},
   "outputs": [
    {
     "name": "stdout",
     "output_type": "stream",
     "text": [
      "value of sum1 is 0\n",
      "value of sum1 is 7\n",
      "value of sum2 is 7\n",
      "value of sum1 is 0\n"
     ]
    }
   ],
   "source": [
    "sum1 = 0 #this is global\n",
    "print(\"value of sum1 is {0}\".format(sum1))\n",
    "\n",
    "def addition(a,b):\n",
    "    sum1 = a+b #this sum1 is local\n",
    "    print(\"value of sum1 is {0}\".format(sum1)) #this prints inside function sum1\n",
    "    return sum1\n",
    "\n",
    "sum2 = addition(3,4)\n",
    "print(\"value of sum2 is {0}\".format(sum2))\n",
    "print(\"value of sum1 is {0}\".format(sum1)) #this accesses sum1 outside function global one"
   ]
  },
  {
   "cell_type": "markdown",
   "metadata": {},
   "source": [
    "-*args and **kwargs\n",
    "\n",
    " allows us to pass variable number of arguments to the function. "
   ]
  },
  {
   "cell_type": "code",
   "execution_count": 60,
   "metadata": {},
   "outputs": [
    {
     "name": "stdout",
     "output_type": "stream",
     "text": [
      "sum is 7\n",
      "sum is 18\n",
      "sum is 10\n"
     ]
    }
   ],
   "source": [
    "def sum(*args):\n",
    "    \"this function returns sum of all the arguements given\"\n",
    "    s = 0\n",
    "    for i in args:\n",
    "        s += i\n",
    "    print(\"sum is\", s)\n",
    "    \n",
    "sum(3,4)\n",
    "sum(3,4,5,6)\n",
    "sum(4,4,2)"
   ]
  },
  {
   "cell_type": "code",
   "execution_count": 61,
   "metadata": {},
   "outputs": [
    {
     "name": "stdout",
     "output_type": "stream",
     "text": [
      "(3, 4, 5)\n",
      "<class 'tuple'>\n",
      "sum is 12\n"
     ]
    }
   ],
   "source": [
    "def sum(*args):\n",
    "    print (args)\n",
    "    print (type(args))\n",
    "    s = 0\n",
    "    for i in args:\n",
    "        s += i\n",
    "    print(\"sum is\", s)\n",
    "\n",
    "sum(3,4,5)"
   ]
  },
  {
   "cell_type": "markdown",
   "metadata": {},
   "source": [
    "**kwargs allows us to pass variable number of keyword argument like this func_name(name='tim', team='school')"
   ]
  },
  {
   "cell_type": "code",
   "execution_count": 63,
   "metadata": {},
   "outputs": [
    {
     "name": "stdout",
     "output_type": "stream",
     "text": [
      "sport football\n",
      "roll 19\n",
      "name tim\n"
     ]
    }
   ],
   "source": [
    "def my_func(**kwargs):\n",
    "    \"this function prints the key and its value (**kwargs)\"\n",
    "    for i, j in kwargs.items():\n",
    "        print(i, j)\n",
    " \n",
    "my_func(name='tim', sport='football', roll=19)"
   ]
  },
  {
   "cell_type": "code",
   "execution_count": 64,
   "metadata": {},
   "outputs": [
    {
     "ename": "SyntaxError",
     "evalue": "non-keyword arg after keyword arg (<ipython-input-64-8e7fb6d18d5c>, line 6)",
     "output_type": "error",
     "traceback": [
      "\u001b[0;36m  File \u001b[0;32m\"<ipython-input-64-8e7fb6d18d5c>\"\u001b[0;36m, line \u001b[0;32m6\u001b[0m\n\u001b[0;31m    my_func(name='tim', sport='football', roll)\u001b[0m\n\u001b[0m                                         ^\u001b[0m\n\u001b[0;31mSyntaxError\u001b[0m\u001b[0;31m:\u001b[0m non-keyword arg after keyword arg\n"
     ]
    }
   ],
   "source": [
    "def my_func(**kwargs):\n",
    "    \"this function prints the key and its value (**kwargs)\"\n",
    "    for i, j in kwargs.items():\n",
    "        print(i, j)\n",
    " \n",
    "my_func(name='tim', sport='football', roll)"
   ]
  },
  {
   "cell_type": "code",
   "execution_count": 65,
   "metadata": {},
   "outputs": [
    {
     "name": "stdout",
     "output_type": "stream",
     "text": [
      "{'sport': 'football', 'roll': 19, 'name': 'tim'}\n",
      "<class 'dict'>\n",
      "sport football\n",
      "roll 19\n",
      "name tim\n"
     ]
    }
   ],
   "source": [
    "def my_func(**kwargs):\n",
    "    \"this function prints the key and its value (**kwargs)\"\n",
    "    print (kwargs)\n",
    "    print (type(kwargs))\n",
    "    for i, j in kwargs.items():\n",
    "        print(i, j)\n",
    " \n",
    "my_func(name='tim', sport='football', roll=19)"
   ]
  },
  {
   "cell_type": "markdown",
   "metadata": {},
   "source": [
    "-use *args and **kwargs in function call"
   ]
  },
  {
   "cell_type": "code",
   "execution_count": 66,
   "metadata": {},
   "outputs": [
    {
     "name": "stdout",
     "output_type": "stream",
     "text": [
      "1 2 3\n"
     ]
    }
   ],
   "source": [
    "def my_three(a, b, c):\n",
    "    print(a, b, c)\n",
    " \n",
    "a = [1,2,3]\n",
    "my_three(*a) # here list is broken into three elements"
   ]
  },
  {
   "cell_type": "code",
   "execution_count": 68,
   "metadata": {},
   "outputs": [
    {
     "name": "stdout",
     "output_type": "stream",
     "text": [
      "one two three\n"
     ]
    }
   ],
   "source": [
    "def my_three(a, b, c):\n",
    "    print(a, b, c)\n",
    " \n",
    "a = {'a': \"one\", 'b': \"two\", 'c': \"three\" }\n",
    "my_three(**a)"
   ]
  },
  {
   "cell_type": "markdown",
   "metadata": {},
   "source": [
    "-The in operator with lists and dictionary"
   ]
  },
  {
   "cell_type": "code",
   "execution_count": 72,
   "metadata": {},
   "outputs": [
    {
     "name": "stdout",
     "output_type": "stream",
     "text": [
      "Hello1\n",
      "Hello3\n"
     ]
    }
   ],
   "source": [
    "if 4 in list(range(1,10)):\n",
    "    print(\"Hello1\")\n",
    "    \n",
    "if 4 in list(range(1,10,2)):\n",
    "    print(\"Hello2\")\n",
    "    \n",
    "if 4 not in list(range(1,10,2)):\n",
    "    print(\"Hello3\")    "
   ]
  },
  {
   "cell_type": "markdown",
   "metadata": {},
   "source": [
    "-strings methods\n",
    "-startswith, endswith, strip, lower, upper, rstrip, lstrip, format, join, replace, swap case"
   ]
  },
  {
   "cell_type": "code",
   "execution_count": 75,
   "metadata": {},
   "outputs": [
    {
     "name": "stdout",
     "output_type": "stream",
     "text": [
      "Hello1\n",
      "Hello4\n"
     ]
    }
   ],
   "source": [
    "str1 = \"Cat apple ball mango\"\n",
    "if str1.startswith(\"Cat\"):\n",
    "    print(\"Hello1\")\n",
    "if str1.startswith(\"Dog\"):\n",
    "    print(\"Hello2\")\n",
    "if str1.startswith(\"Cat-\"):\n",
    "    print(\"Hello3\")\n",
    "    \n",
    "if str1.endswith(\"mango\"):\n",
    "    print(\"Hello4\")\n",
    "if str1.endswith(\"ball\"):\n",
    "    print(\"Hello5\")\n",
    "if str1.endswith(\"-mango\"):\n",
    "    print(\"Hello6\")    "
   ]
  },
  {
   "cell_type": "markdown",
   "metadata": {},
   "source": [
    "-strip"
   ]
  },
  {
   "cell_type": "code",
   "execution_count": 83,
   "metadata": {},
   "outputs": [
    {
     "name": "stdout",
     "output_type": "stream",
     "text": [
      "Cat apple ball mango\n",
      "0000Cat apple ball mango000000\n",
      "username is aditya\n",
      "Cat apple ball mango000000\n",
      "0000Cat apple ball mango000000\n",
      "0000Cat apple ball mango\n",
      "0000Cat apple ball mango000000\n"
     ]
    }
   ],
   "source": [
    "#strip\n",
    "str1 = \"0000Cat apple ball mango000000\"\n",
    "print (str1.strip('0'))\n",
    "\n",
    "str1 = \"0000Cat apple ball mango000000\"\n",
    "print (str1.strip('3'))\n",
    "\n",
    "str1 = \"username is aditya    \"\n",
    "print (str1.strip())\n",
    "\n",
    "#lstrip()\n",
    "str1 = \"0000Cat apple ball mango000000\"\n",
    "print (str1.lstrip('0'))\n",
    "\n",
    "str1 = \"0000Cat apple ball mango000000\"\n",
    "print (str1.lstrip('3'))\n",
    "\n",
    "#rstrip()\n",
    "str1 = \"0000Cat apple ball mango000000\"\n",
    "print (str1.rstrip('0'))\n",
    "\n",
    "str1 = \"0000Cat apple ball mango000000\"\n",
    "print (str1.rstrip('3'))"
   ]
  },
  {
   "cell_type": "markdown",
   "metadata": {},
   "source": [
    "-islower() -isupper() -upper() -lower()"
   ]
  },
  {
   "cell_type": "code",
   "execution_count": 96,
   "metadata": {},
   "outputs": [
    {
     "name": "stdout",
     "output_type": "stream",
     "text": [
      "success1\n",
      "success5\n",
      "HELLO\n",
      "HELLO\n",
      "hello\n",
      "HEllo\n",
      "......\n",
      "hello\n",
      "hello\n",
      "HELLO\n",
      "HEllo\n",
      "......\n",
      "hello\n",
      "HELLO\n",
      "heLLO\n"
     ]
    }
   ],
   "source": [
    "str1=\"HELLO\"\n",
    "str2=\"hello\"\n",
    "str3=\"HEllo\"\n",
    "if str1.isupper():\n",
    "    print(\"success1\")\n",
    "    \n",
    "if str2.isupper():\n",
    "    print(\"success2\")\n",
    "  \n",
    "if str3.isupper():\n",
    "    print(\"success3\")\n",
    "    \n",
    "    \n",
    "if str1.islower():\n",
    "    print(\"success4\")\n",
    "    \n",
    "if str2.islower():\n",
    "    print(\"success5\")\n",
    "  \n",
    "if str3.islower():\n",
    "    print(\"success6\")\n",
    "    \n",
    "print (str2.upper())\n",
    "print (str3.upper())\n",
    "print (str2)\n",
    "print (str3)\n",
    "print(\"......\")\n",
    "print (str1.lower())\n",
    "print (str3.lower())\n",
    "print (str1)\n",
    "print (str3)\n",
    "print(\"......\")\n",
    "print (str1.swapcase())\n",
    "print (str2.swapcase())\n",
    "print (str3.swapcase())"
   ]
  },
  {
   "cell_type": "markdown",
   "metadata": {},
   "source": [
    "-replace()  -join()  -split() "
   ]
  },
  {
   "cell_type": "code",
   "execution_count": 104,
   "metadata": {},
   "outputs": [
    {
     "name": "stdout",
     "output_type": "stream",
     "text": [
      "I love python programming\n",
      "I like python programming\n",
      "34-55-46-75\n",
      "aditya & rahul & akansha & allen\n",
      "['cat', 'ball', 'apple', 'mango']\n",
      "<class 'list'>\n"
     ]
    }
   ],
   "source": [
    "#replace\n",
    "oldstring = 'I like python programming' \n",
    "newstring = oldstring.replace('like', 'love')\n",
    "print(newstring)\n",
    "\n",
    "#what happens when no match?\n",
    "oldstring = 'I like python programming' \n",
    "newstring = oldstring.replace('apple', 'mango')\n",
    "print(newstring)\n",
    "\n",
    "#join\n",
    "print (\"-\".join([\"34\",\"55\",\"46\",\"75\"]))\n",
    "\n",
    "mySeq = [\"aditya\",\"rahul\",\"akansha\",\"allen\"]\n",
    "print((\" & \").join(mySeq))\n",
    "\n",
    "#split()\n",
    "str1 = \"cat,ball,apple,mango\"\n",
    "print (str1.split(\",\"))\n",
    "print (type(str1.split(\",\")))"
   ]
  },
  {
   "cell_type": "code",
   "execution_count": null,
   "metadata": {},
   "outputs": [],
   "source": []
  }
 ],
 "metadata": {
  "kernelspec": {
   "display_name": "Python 3",
   "language": "python",
   "name": "python3"
  },
  "language_info": {
   "codemirror_mode": {
    "name": "ipython",
    "version": 3
   },
   "file_extension": ".py",
   "mimetype": "text/x-python",
   "name": "python",
   "nbconvert_exporter": "python",
   "pygments_lexer": "ipython3",
   "version": "3.6.5"
  }
 },
 "nbformat": 4,
 "nbformat_minor": 2
}
