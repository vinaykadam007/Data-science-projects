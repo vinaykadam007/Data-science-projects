{
 "cells": [
  {
   "cell_type": "code",
   "execution_count": 8,
   "metadata": {},
   "outputs": [
    {
     "name": "stdout",
     "output_type": "stream",
     "text": [
      "    Points  Rank    Team  Year\n",
      "0      876     1  Riders  2014\n",
      "1      789     2  Riders  2015\n",
      "2      863     2  Devils  2014\n",
      "3      673     3  Devils  2015\n",
      "4      741     3   Kings  2014\n",
      "5      812     4   kings  2015\n",
      "6      756     1   Kings  2016\n",
      "7      788     1   Kings  2017\n",
      "8      694     2  Riders  2016\n",
      "9      701     4  Royals  2014\n",
      "10     804     1  Royals  2015\n",
      "11     690     2  Riders  2017\n"
     ]
    }
   ],
   "source": [
    "# import the pandas library\n",
    "import pandas as pd\n",
    "import numpy as np\n",
    "\n",
    "#another way of creating a data frame\n",
    "ipl_data = {'Team': ['Riders', 'Riders', 'Devils', 'Devils', 'Kings',\n",
    "         'kings', 'Kings', 'Kings', 'Riders', 'Royals', 'Royals', 'Riders'],\n",
    "         'Rank': [1, 2, 2, 3, 3,4 ,1 ,1,2 , 4,1,2],\n",
    "         'Year': [2014,2015,2014,2015,2014,2015,2016,2017,2016,2014,2015,2017],\n",
    "         'Points':[876,789,863,673,741,812,756,788,694,701,804,690]}\n",
    "\n",
    "df = pd.DataFrame(ipl_data)\n",
    "print(df)"
   ]
  },
  {
   "cell_type": "code",
   "execution_count": 6,
   "metadata": {},
   "outputs": [
    {
     "name": "stdout",
     "output_type": "stream",
     "text": [
      "1 \n",
      "     Points  Rank    Team  Year\n",
      "0      876     1  Riders  2014\n",
      "6      756     1   Kings  2016\n",
      "7      788     1   Kings  2017\n",
      "10     804     1  Royals  2015 \n",
      "\n",
      "2 \n",
      "     Points  Rank    Team  Year\n",
      "1      789     2  Riders  2015\n",
      "2      863     2  Devils  2014\n",
      "8      694     2  Riders  2016\n",
      "11     690     2  Riders  2017 \n",
      "\n",
      "3 \n",
      "    Points  Rank    Team  Year\n",
      "3     673     3  Devils  2015\n",
      "4     741     3   Kings  2014 \n",
      "\n",
      "4 \n",
      "    Points  Rank    Team  Year\n",
      "5     812     4   kings  2015\n",
      "9     701     4  Royals  2014 \n",
      "\n"
     ]
    }
   ],
   "source": [
    "for name,group in df.groupby('Rank'):\n",
    "    print(name, \"\\n\", group, \"\\n\")"
   ]
  },
  {
   "cell_type": "code",
   "execution_count": 7,
   "metadata": {},
   "outputs": [
    {
     "name": "stdout",
     "output_type": "stream",
     "text": [
      "Devils \n",
      "    Points  Rank    Team  Year\n",
      "2     863     2  Devils  2014\n",
      "3     673     3  Devils  2015 \n",
      "\n",
      "Kings \n",
      "    Points  Rank   Team  Year\n",
      "4     741     3  Kings  2014\n",
      "6     756     1  Kings  2016\n",
      "7     788     1  Kings  2017 \n",
      "\n",
      "Riders \n",
      "     Points  Rank    Team  Year\n",
      "0      876     1  Riders  2014\n",
      "1      789     2  Riders  2015\n",
      "8      694     2  Riders  2016\n",
      "11     690     2  Riders  2017 \n",
      "\n",
      "Royals \n",
      "     Points  Rank    Team  Year\n",
      "9      701     4  Royals  2014\n",
      "10     804     1  Royals  2015 \n",
      "\n",
      "kings \n",
      "    Points  Rank   Team  Year\n",
      "5     812     4  kings  2015 \n",
      "\n"
     ]
    }
   ],
   "source": [
    "for name, group in df.groupby('Team'):\n",
    "    print(name, \"\\n\", group, \"\\n\")"
   ]
  },
  {
   "cell_type": "code",
   "execution_count": null,
   "metadata": {},
   "outputs": [],
   "source": []
  }
 ],
 "metadata": {
  "kernelspec": {
   "display_name": "Python 3",
   "language": "python",
   "name": "python3"
  },
  "language_info": {
   "codemirror_mode": {
    "name": "ipython",
    "version": 3
   },
   "file_extension": ".py",
   "mimetype": "text/x-python",
   "name": "python",
   "nbconvert_exporter": "python",
   "pygments_lexer": "ipython3",
   "version": "3.6.4"
  }
 },
 "nbformat": 4,
 "nbformat_minor": 2
}
