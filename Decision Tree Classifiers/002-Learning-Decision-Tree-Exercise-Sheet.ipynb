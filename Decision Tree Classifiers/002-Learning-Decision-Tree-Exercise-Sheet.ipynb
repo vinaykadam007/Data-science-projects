{
 "cells": [
  {
   "cell_type": "markdown",
   "metadata": {},
   "source": [
    "Classify animals into dog and cat category based of given features \n",
    "- Plays Fetch Game\n",
    "- Grumpy in nature\n",
    "- Favorite food\n"
   ]
  },
  {
   "cell_type": "code",
   "execution_count": 1,
   "metadata": {},
   "outputs": [],
   "source": [
    "import pandas as pd\n",
    "import matplotlib.pyplot as plt"
   ]
  },
  {
   "cell_type": "code",
   "execution_count": 2,
   "metadata": {},
   "outputs": [],
   "source": [
    "from sklearn.tree import DecisionTreeClassifier\n",
    "from sklearn.model_selection import train_test_split\n",
    "from sklearn.metrics import classification_report, confusion_matrix"
   ]
  },
  {
   "cell_type": "code",
   "execution_count": 3,
   "metadata": {},
   "outputs": [],
   "source": [
    "from io import StringIO\n",
    "dataset =StringIO('''Plays Fetch,Is grumpy,Favorite food,Species\n",
    "Yes,No,Bacon,Dog\n",
    "No,Yes,Dog Food,Dog\n",
    "No,Yes,Cat food,Cat\n",
    "No,Yes,Bacon,Cat\n",
    "No,No,Cat food,Cat\n",
    "No,Yes,Bacon,Cat\n",
    "No,Yes,Cat Food,Cat\n",
    "No,No,Dog Food,Dog\n",
    "No,Yes,Cat food,Cat\n",
    "Yes,No,Dog Food,Dog\n",
    "Yes,No,Bacon,Dog\n",
    "No,No,Cat food,Cat\n",
    "Yes,Yes,Cat food,Cat\n",
    "Yes,Yes,Bacon,Dog\n",
    "''')\n",
    "df = pd.read_csv(dataset)"
   ]
  },
  {
   "cell_type": "code",
   "execution_count": null,
   "metadata": {},
   "outputs": [],
   "source": []
  }
 ],
 "metadata": {
  "kernelspec": {
   "display_name": "Python 3",
   "language": "python",
   "name": "python3"
  },
  "language_info": {
   "codemirror_mode": {
    "name": "ipython",
    "version": 3
   },
   "file_extension": ".py",
   "mimetype": "text/x-python",
   "name": "python",
   "nbconvert_exporter": "python",
   "pygments_lexer": "ipython3",
   "version": "3.6.4"
  }
 },
 "nbformat": 4,
 "nbformat_minor": 2
}
