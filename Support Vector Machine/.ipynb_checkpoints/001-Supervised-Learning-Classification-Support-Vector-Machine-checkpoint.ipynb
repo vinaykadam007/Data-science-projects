{
 "cells": [
  {
   "cell_type": "markdown",
   "metadata": {},
   "source": [
    "# Support Vector machine"
   ]
  },
  {
   "cell_type": "code",
   "execution_count": 8,
   "metadata": {},
   "outputs": [],
   "source": [
    "import pandas as pd\n",
    "from sklearn.svm import SVC\n",
    "import numpy as np\n",
    "from matplotlib import pyplot as plt"
   ]
  },
  {
   "cell_type": "code",
   "execution_count": 9,
   "metadata": {},
   "outputs": [],
   "source": [
    "from io import StringIO\n",
    "dataset =StringIO('''\n",
    "a,b,o\n",
    "1,2,1\n",
    "2,3,1\n",
    "3,4,1\n",
    "4,5,1\n",
    "5,6,1\n",
    "1,0,0\n",
    "2,1,0\n",
    "3,2,0\n",
    "4,1.5,0\n",
    "5,4,0\n",
    "1,4,1\n",
    "1,5,1\n",
    "1,6,1\n",
    "1,3.5,1\n",
    "1,4.5,1\n",
    "2,4,1\n",
    "2,5,1\n",
    "1.5,4,1\n",
    "1.5,4.5,1\n",
    "1,6,1\n",
    "1,6,1\n",
    "1,6,1\n",
    "1,6,1\n",
    "1,6,1\n",
    "''')\n",
    "df = pd.read_csv(dataset)"
   ]
  },
  {
   "cell_type": "code",
   "execution_count": 10,
   "metadata": {},
   "outputs": [],
   "source": [
    "classifier = SVC(kernel='linear')"
   ]
  },
  {
   "cell_type": "code",
   "execution_count": 11,
   "metadata": {},
   "outputs": [],
   "source": [
    "model = classifier.fit(df[['a', 'b']], df['o'])"
   ]
  },
  {
   "cell_type": "code",
   "execution_count": 12,
   "metadata": {},
   "outputs": [
    {
     "data": {
      "text/plain": [
       "<matplotlib.collections.PathCollection at 0x7fc5727384e0>"
      ]
     },
     "execution_count": 12,
     "metadata": {},
     "output_type": "execute_result"
    },
    {
     "data": {
      "image/png": "[encoded data removed]",
      "text/plain": [
       "<Figure size 432x288 with 1 Axes>"
      ]
     },
     "metadata": {},
     "output_type": "display_data"
    }
   ],
   "source": [
    "x_min, x_max = df.iloc[:, 0].min() - 1, df.iloc[:, 0].max() + 1\n",
    "y_min, y_max = df.iloc[:, 1].min() - 1, df.iloc[:, 1].max() + 1\n",
    "xx, yy = np.meshgrid(np.arange(x_min, x_max, .01),\n",
    "                     np.arange(y_min, y_max, .01))\n",
    "Z = model.predict(np.c_[xx.ravel(), yy.ravel()])\n",
    "\n",
    "color_map = {-1: (1, 1, 1), 0: (0, 0, .9), 1: (1, 0, 0), 2: (.8, .6, 0)}\n",
    "colors = [color_map[y] for y in df['o']]\n",
    "Z = Z.reshape(xx.shape)\n",
    "plt.contourf(xx, yy, Z, cmap=plt.cm.Blues)\n",
    "\n",
    "plt.plot([0, 6], [0,6], color='g')\n",
    "plt.scatter(df.iloc[:, 0],df.iloc[:, 1], c=colors, edgecolors='black')\n",
    "# plt.axis('off')"
   ]
  }
 ],
 "metadata": {
  "kernelspec": {
   "display_name": "Python 3",
   "language": "python",
   "name": "python3"
  },
  "language_info": {
   "codemirror_mode": {
    "name": "ipython",
    "version": 3
   },
   "file_extension": ".py",
   "mimetype": "text/x-python",
   "name": "python",
   "nbconvert_exporter": "python",
   "pygments_lexer": "ipython3",
   "version": "3.6.5"
  }
 },
 "nbformat": 4,
 "nbformat_minor": 2
}
