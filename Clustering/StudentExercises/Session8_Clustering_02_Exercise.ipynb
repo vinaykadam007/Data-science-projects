{
 "cells": [
  {
   "cell_type": "markdown",
   "metadata": {},
   "source": [
    "# Exercise - Clustering Volcanoes according to eruption time\n",
    "\n",
    "The 'eruptions.csv' file contains 10000 rows of volcanic activity information. The first column is the duration of the eruption, and the second is time between two eruptions. We will cluster volcanoes based on these two features. \n",
    "\n",
    "### Perform the following operations:\n",
    "1. Read the dataset in python using pandas. Plot a scatter of the two columns. Do you observe any pattern?\n",
    "2. Run the Kmeans algorithm on this dataset. Choose the appropriate number of clusters for this data. Run the Kmeans algorithm using 'k-means++'. \n",
    "3. Plot the output of Kmeans, colored according to clusters and obtained centroids. Plot the circle around the cluster showing the data points included in the cluster.\n",
    "4. Justify your choice of clusters based on the Elbow Method. Plot the elbow.\n",
    "5. For each cluster plot the line from the centroid to the farthest point in the cluster. \n",
    "6. What is average distance of each cluster? (From the centroid to all points in the cluster)\n",
    "7. For the following points, find out which cluster they fall in?  \n",
    "dur_eruptions = 2.5, 3.0, 3.2, 4.5, 5.0, 1.5  \n",
    "wait_time_btn_eruptions = 70, 55, 70, 80, 70, 100  \n",
    "Plot these points in separate markers & color along with the clusters"
   ]
  },
  {
   "cell_type": "code",
   "execution_count": 4,
   "metadata": {},
   "outputs": [],
   "source": [
    "import pandas as pd\n",
    "import matplotlib.pyplot as plt\n",
    "from sklearn.cluster import KMeans\n",
    "import numpy as np"
   ]
  },
  {
   "cell_type": "code",
   "execution_count": 5,
   "metadata": {},
   "outputs": [
    {
     "data": {
      "text/html": [
       "<div>\n",
       "<style scoped>\n",
       "    .dataframe tbody tr th:only-of-type {\n",
       "        vertical-align: middle;\n",
       "    }\n",
       "\n",
       "    .dataframe tbody tr th {\n",
       "        vertical-align: top;\n",
       "    }\n",
       "\n",
       "    .dataframe thead th {\n",
       "        text-align: right;\n",
       "    }\n",
       "</style>\n",
       "<table border=\"1\" class=\"dataframe\">\n",
       "  <thead>\n",
       "    <tr style=\"text-align: right;\">\n",
       "      <th></th>\n",
       "      <th>dur_eruptions</th>\n",
       "      <th>wait_time_btn_eruptions</th>\n",
       "    </tr>\n",
       "  </thead>\n",
       "  <tbody>\n",
       "    <tr>\n",
       "      <th>0</th>\n",
       "      <td>3.600</td>\n",
       "      <td>79</td>\n",
       "    </tr>\n",
       "    <tr>\n",
       "      <th>1</th>\n",
       "      <td>1.800</td>\n",
       "      <td>54</td>\n",
       "    </tr>\n",
       "    <tr>\n",
       "      <th>2</th>\n",
       "      <td>3.333</td>\n",
       "      <td>74</td>\n",
       "    </tr>\n",
       "    <tr>\n",
       "      <th>3</th>\n",
       "      <td>2.283</td>\n",
       "      <td>62</td>\n",
       "    </tr>\n",
       "    <tr>\n",
       "      <th>4</th>\n",
       "      <td>4.533</td>\n",
       "      <td>85</td>\n",
       "    </tr>\n",
       "  </tbody>\n",
       "</table>\n",
       "</div>"
      ],
      "text/plain": [
       "   dur_eruptions  wait_time_btn_eruptions\n",
       "0          3.600                       79\n",
       "1          1.800                       54\n",
       "2          3.333                       74\n",
       "3          2.283                       62\n",
       "4          4.533                       85"
      ]
     },
     "execution_count": 5,
     "metadata": {},
     "output_type": "execute_result"
    }
   ],
   "source": [
    "df = pd.read_csv('./data/eruptions.csv')\n",
    "df.head()"
   ]
  }
 ],
 "metadata": {
  "kernelspec": {
   "display_name": "Python 3",
   "language": "python",
   "name": "python3"
  },
  "language_info": {
   "codemirror_mode": {
    "name": "ipython",
    "version": 3
   },
   "file_extension": ".py",
   "mimetype": "text/x-python",
   "name": "python",
   "nbconvert_exporter": "python",
   "pygments_lexer": "ipython3",
   "version": "3.6.4"
  }
 },
 "nbformat": 4,
 "nbformat_minor": 2
}
