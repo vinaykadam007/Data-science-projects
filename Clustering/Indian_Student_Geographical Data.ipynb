{
 "cells": [
  {
   "cell_type": "code",
   "execution_count": 1,
   "metadata": {},
   "outputs": [
    {
     "data": {
      "text/html": [
       "<div>\n",
       "<style scoped>\n",
       "    .dataframe tbody tr th:only-of-type {\n",
       "        vertical-align: middle;\n",
       "    }\n",
       "\n",
       "    .dataframe tbody tr th {\n",
       "        vertical-align: top;\n",
       "    }\n",
       "\n",
       "    .dataframe thead th {\n",
       "        text-align: right;\n",
       "    }\n",
       "</style>\n",
       "<table border=\"1\" class=\"dataframe\">\n",
       "  <thead>\n",
       "    <tr style=\"text-align: right;\">\n",
       "      <th></th>\n",
       "      <th>country</th>\n",
       "      <th>no_of_indian_students</th>\n",
       "      <th>percentage</th>\n",
       "      <th>latitude</th>\n",
       "      <th>longitude</th>\n",
       "      <th>code</th>\n",
       "    </tr>\n",
       "  </thead>\n",
       "  <tbody>\n",
       "    <tr>\n",
       "      <th>0</th>\n",
       "      <td>United States of America</td>\n",
       "      <td>165918</td>\n",
       "      <td>37.134985</td>\n",
       "      <td>39.783730</td>\n",
       "      <td>-100.445882</td>\n",
       "      <td>USA</td>\n",
       "    </tr>\n",
       "    <tr>\n",
       "      <th>1</th>\n",
       "      <td>Australia</td>\n",
       "      <td>66886</td>\n",
       "      <td>14.970109</td>\n",
       "      <td>-24.776109</td>\n",
       "      <td>134.755000</td>\n",
       "      <td>AUS</td>\n",
       "    </tr>\n",
       "    <tr>\n",
       "      <th>2</th>\n",
       "      <td>Canada</td>\n",
       "      <td>50000</td>\n",
       "      <td>11.190764</td>\n",
       "      <td>61.066692</td>\n",
       "      <td>-107.991707</td>\n",
       "      <td>CAN</td>\n",
       "    </tr>\n",
       "    <tr>\n",
       "      <th>3</th>\n",
       "      <td>New Zealand</td>\n",
       "      <td>32000</td>\n",
       "      <td>7.162089</td>\n",
       "      <td>-41.500083</td>\n",
       "      <td>172.834408</td>\n",
       "      <td>NZL</td>\n",
       "    </tr>\n",
       "    <tr>\n",
       "      <th>4</th>\n",
       "      <td>Bahrain</td>\n",
       "      <td>27000</td>\n",
       "      <td>6.043013</td>\n",
       "      <td>35.207801</td>\n",
       "      <td>72.547397</td>\n",
       "      <td>BHR</td>\n",
       "    </tr>\n",
       "  </tbody>\n",
       "</table>\n",
       "</div>"
      ],
      "text/plain": [
       "                    country  no_of_indian_students  percentage   latitude  \\\n",
       "0  United States of America                 165918   37.134985  39.783730   \n",
       "1                 Australia                  66886   14.970109 -24.776109   \n",
       "2                    Canada                  50000   11.190764  61.066692   \n",
       "3               New Zealand                  32000    7.162089 -41.500083   \n",
       "4                   Bahrain                  27000    6.043013  35.207801   \n",
       "\n",
       "    longitude code  \n",
       "0 -100.445882  USA  \n",
       "1  134.755000  AUS  \n",
       "2 -107.991707  CAN  \n",
       "3  172.834408  NZL  \n",
       "4   72.547397  BHR  "
      ]
     },
     "execution_count": 1,
     "metadata": {},
     "output_type": "execute_result"
    }
   ],
   "source": [
    "import pandas as pd\n",
    "import numpy as np\n",
    "import matplotlib.pyplot as plt\n",
    "\n",
    "df = pd.read_csv(\"./data/Indian_Student_Data.csv\")\n",
    "df.head()"
   ]
  },
  {
   "cell_type": "code",
   "execution_count": 2,
   "metadata": {},
   "outputs": [],
   "source": [
    "from sklearn.cluster import KMeans\n",
    "from sklearn.metrics import silhouette_samples, silhouette_score"
   ]
  },
  {
   "cell_type": "code",
   "execution_count": 3,
   "metadata": {},
   "outputs": [
    {
     "data": {
      "text/plain": [
       "array([5, 6, 5, 6, 3, 3, 5, 1, 2, 2, 3, 1, 3, 3, 1, 3, 1, 1, 1, 2, 4, 3,\n",
       "       1, 2, 2, 1, 2, 2, 1, 1, 4, 1, 2, 1, 1, 1, 1, 1, 1, 1, 1, 1, 4, 1,\n",
       "       5, 3, 1, 3, 4, 1, 0, 2, 2, 1, 3, 1, 1, 1, 5, 1, 1, 5, 0, 2, 1])"
      ]
     },
     "execution_count": 3,
     "metadata": {},
     "output_type": "execute_result"
    }
   ],
   "source": [
    "kmeans = KMeans(n_clusters=7, init='k-means++')\n",
    "y_kmeans = kmeans.fit_predict(df[['latitude', 'longitude', 'percentage']])\n",
    "y_kmeans"
   ]
  },
  {
   "cell_type": "code",
   "execution_count": 4,
   "metadata": {},
   "outputs": [
    {
     "name": "stdout",
     "output_type": "stream",
     "text": [
      "Clusters found in 2 iterations\n"
     ]
    }
   ],
   "source": [
    "print(\"Clusters found in {0} iterations\".format(kmeans.n_iter_))"
   ]
  },
  {
   "cell_type": "code",
   "execution_count": 5,
   "metadata": {},
   "outputs": [
    {
     "name": "stdout",
     "output_type": "stream",
     "text": [
      "0.5199857921316744\n"
     ]
    }
   ],
   "source": [
    "silhouette_avg = silhouette_score(df[['latitude', 'longitude', 'percentage']], y_kmeans)\n",
    "print(silhouette_avg)"
   ]
  },
  {
   "cell_type": "code",
   "execution_count": 6,
   "metadata": {},
   "outputs": [
    {
     "data": {
      "text/html": [
       "<div>\n",
       "<style scoped>\n",
       "    .dataframe tbody tr th:only-of-type {\n",
       "        vertical-align: middle;\n",
       "    }\n",
       "\n",
       "    .dataframe tbody tr th {\n",
       "        vertical-align: top;\n",
       "    }\n",
       "\n",
       "    .dataframe thead th {\n",
       "        text-align: right;\n",
       "    }\n",
       "</style>\n",
       "<table border=\"1\" class=\"dataframe\">\n",
       "  <thead>\n",
       "    <tr style=\"text-align: right;\">\n",
       "      <th></th>\n",
       "      <th>country</th>\n",
       "      <th>no_of_indian_students</th>\n",
       "      <th>percentage</th>\n",
       "      <th>latitude</th>\n",
       "      <th>longitude</th>\n",
       "      <th>code</th>\n",
       "      <th>cluster</th>\n",
       "    </tr>\n",
       "  </thead>\n",
       "  <tbody>\n",
       "    <tr>\n",
       "      <th>0</th>\n",
       "      <td>United States of America</td>\n",
       "      <td>165918</td>\n",
       "      <td>37.134985</td>\n",
       "      <td>39.783730</td>\n",
       "      <td>-100.445882</td>\n",
       "      <td>USA</td>\n",
       "      <td>5</td>\n",
       "    </tr>\n",
       "    <tr>\n",
       "      <th>1</th>\n",
       "      <td>Australia</td>\n",
       "      <td>66886</td>\n",
       "      <td>14.970109</td>\n",
       "      <td>-24.776109</td>\n",
       "      <td>134.755000</td>\n",
       "      <td>AUS</td>\n",
       "      <td>6</td>\n",
       "    </tr>\n",
       "    <tr>\n",
       "      <th>2</th>\n",
       "      <td>Canada</td>\n",
       "      <td>50000</td>\n",
       "      <td>11.190764</td>\n",
       "      <td>61.066692</td>\n",
       "      <td>-107.991707</td>\n",
       "      <td>CAN</td>\n",
       "      <td>5</td>\n",
       "    </tr>\n",
       "    <tr>\n",
       "      <th>3</th>\n",
       "      <td>New Zealand</td>\n",
       "      <td>32000</td>\n",
       "      <td>7.162089</td>\n",
       "      <td>-41.500083</td>\n",
       "      <td>172.834408</td>\n",
       "      <td>NZL</td>\n",
       "      <td>6</td>\n",
       "    </tr>\n",
       "    <tr>\n",
       "      <th>4</th>\n",
       "      <td>Bahrain</td>\n",
       "      <td>27000</td>\n",
       "      <td>6.043013</td>\n",
       "      <td>35.207801</td>\n",
       "      <td>72.547397</td>\n",
       "      <td>BHR</td>\n",
       "      <td>3</td>\n",
       "    </tr>\n",
       "  </tbody>\n",
       "</table>\n",
       "</div>"
      ],
      "text/plain": [
       "                    country  no_of_indian_students  percentage   latitude  \\\n",
       "0  United States of America                 165918   37.134985  39.783730   \n",
       "1                 Australia                  66886   14.970109 -24.776109   \n",
       "2                    Canada                  50000   11.190764  61.066692   \n",
       "3               New Zealand                  32000    7.162089 -41.500083   \n",
       "4                   Bahrain                  27000    6.043013  35.207801   \n",
       "\n",
       "    longitude code  cluster  \n",
       "0 -100.445882  USA        5  \n",
       "1  134.755000  AUS        6  \n",
       "2 -107.991707  CAN        5  \n",
       "3  172.834408  NZL        6  \n",
       "4   72.547397  BHR        3  "
      ]
     },
     "execution_count": 6,
     "metadata": {},
     "output_type": "execute_result"
    }
   ],
   "source": [
    "df = pd.concat([df, pd.DataFrame({'cluster':y_kmeans})], axis=1)\n",
    "df.head()"
   ]
  },
  {
   "cell_type": "code",
   "execution_count": 7,
   "metadata": {},
   "outputs": [
    {
     "data": {
      "text/html": [
       "<iframe id=\"igraph\" scrolling=\"no\" style=\"border:none;\" seamless=\"seamless\" src=\"https://plot.ly/~janhavi.p.kulkarni/2.embed\" height=\"525px\" width=\"100%\"></iframe>"
      ],
      "text/plain": [
       "<plotly.tools.PlotlyDisplay object>"
      ]
     },
     "execution_count": 7,
     "metadata": {},
     "output_type": "execute_result"
    }
   ],
   "source": [
    "import plotly.plotly as py\n",
    "import plotly\n",
    "import pandas as pd\n",
    "plotly.tools.set_credentials_file(username='janhavi.p.kulkarni', api_key=\"YhlrqzA9GUVL39ubrIEg\")\n",
    "\n",
    "data = [dict(\n",
    "        type = 'choropleth',\n",
    "        locations = df['code'],\n",
    "        z = df['cluster'],\n",
    "        text = df['country'],\n",
    "        autocolorscale = False,\n",
    "        colorscale = [[0,\"rgb(255,0 , 0)\"],[1,\"rgb(0, 255, 0)\"], [2,\"rgb(0, 0, 255)\"], \n",
    "                     [3,\"rgb(255, 255, 0)\"], [4,\"rgb(255, 0, 255)\"], [5,\"rgb(0, 255, 255)\"], \n",
    "                     [6,\"rgb(127, 255, 255)\"]],\n",
    "        marker = dict(\n",
    "            line = dict (\n",
    "                color = 'rgb(180,180,180)',\n",
    "                width = 1) ),\n",
    "        colorbar = dict(\n",
    "            autotick = False,\n",
    "            tickprefix = 'Cluster Number ',\n",
    "            title = 'Cluster Color')\n",
    "      )]\n",
    "\n",
    "layout = dict(\n",
    "    title = 'Indian Student Distribution',\n",
    "    geo = dict(\n",
    "        showframe = True,\n",
    "        showcoastlines = True\n",
    "    )\n",
    ")\n",
    "\n",
    "fig = dict( data=data, layout=layout )\n",
    "py.iplot( fig, validate=False, filename='Indian Student Distribution Around the World' )"
   ]
  },
  {
   "cell_type": "code",
   "execution_count": null,
   "metadata": {},
   "outputs": [],
   "source": []
  }
 ],
 "metadata": {
  "kernelspec": {
   "display_name": "Python 3",
   "language": "python",
   "name": "python3"
  },
  "language_info": {
   "codemirror_mode": {
    "name": "ipython",
    "version": 3
   },
   "file_extension": ".py",
   "mimetype": "text/x-python",
   "name": "python",
   "nbconvert_exporter": "python",
   "pygments_lexer": "ipython3",
   "version": "3.6.4"
  }
 },
 "nbformat": 4,
 "nbformat_minor": 2
}
